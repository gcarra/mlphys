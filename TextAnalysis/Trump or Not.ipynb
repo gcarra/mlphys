{
 "cells": [
  {
   "cell_type": "markdown",
   "metadata": {},
   "source": [
    "# _Trump Or Not_: Textual Analysis of Tweets\n",
    "-----\n",
    "The use of ghostwriters is a popular practice in political communication owing to its ability to walk a delicate balanace: voters want to feel as though they are in direct communication with their representatives while the representatives themselves need to carefully craft their messages under enormous time pressure. Administrations and campaigns use thier public communication channels to effect policy and as well as to move popular sentiment towards their policy objectives. \n",
    "\n",
    "Some elected officials have had more luck than others. In point, former US President Barack Obama's campaign famously made effecive use of Twitter during his 2012 re-election campaign. However, even Tweets signed with the eponymous \"-bo\" are known to have been written by his staff (_Ghostwriting and the Ethics of Authenticity_ Knapp & Hulbert 2016, [_Can He Do That: \"Can He Tweet That?\"_ Washington Post](https://www.washingtonpost.com/graphics/politics/can-he-do-that-trump-podcast/) 2017). \n",
    "\n",
    "Since the start of the most recent US presidential election, perhaps no elected official's tweets have been studied more than those of the current US President, Donald J. Trump. President Trump has famously used his Twitter account to communicate directly with his fans, supporters, and opponents in his well-known bombastic style. For his supporters, his tweets represent a personal connection with a president who \"speaks his mind.\" \n",
    "\n",
    "A nautral question arises: given that President Trump is known for using ghostwriters in the past ([_Donald Trump's Ghostwriter Tells All_ New Yorker](http://www.newyorker.com/magazine/2016/07/25/donald-trumps-ghostwriter-tells-all) 2016), as well as his penchant for having aides write his tweets by dictation, __how much of President Trump's twitter content has been written by staff, campaign officials, and aides, and how much is the \"real\" Donald Trump?__\n",
    "\n",
    "[Recent analysis](http://varianceexplained.org/r/trump-tweets/) has shown that device origin (Android or iPhone) has, historically, appeared to be a solid indicator of whether Trump himself or his aides were the authors of particular tweets. Since this observation was made in the summer of 2016, it has been noted that this tweeting behvaior has changed, making the label-to-author link less strong. \n",
    "\n",
    "Using this meta-data on historical tweets as labels, is it possible to train a classifier based soley on textual analysis? Can we mbuild a Trump-or-Not classifier for President's Trumps current tweets?"
   ]
  },
  {
   "cell_type": "code",
   "execution_count": null,
   "metadata": {
    "collapsed": true
   },
   "outputs": [],
   "source": []
  }
 ],
 "metadata": {
  "kernelspec": {
   "display_name": "Python 3",
   "language": "python",
   "name": "python3"
  },
  "language_info": {
   "codemirror_mode": {
    "name": "ipython",
    "version": 3
   },
   "file_extension": ".py",
   "mimetype": "text/x-python",
   "name": "python",
   "nbconvert_exporter": "python",
   "pygments_lexer": "ipython3",
   "version": "3.5.2"
  }
 },
 "nbformat": 4,
 "nbformat_minor": 0
}
