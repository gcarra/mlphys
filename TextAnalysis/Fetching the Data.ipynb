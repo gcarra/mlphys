{
 "cells": [
  {
   "cell_type": "code",
   "execution_count": 2,
   "metadata": {
    "collapsed": true
   },
   "outputs": [],
   "source": [
    "import tweepy"
   ]
  },
  {
   "cell_type": "code",
   "execution_count": 3,
   "metadata": {
    "collapsed": false
   },
   "outputs": [],
   "source": [
    "# Define and open the local OAuth token configuration file\n",
    "oauth_token_file_name = 'twitterOAuth.cfg'\n",
    "oauth_token_file = open(oauth_token_file_name,'r')\n",
    "\n",
    "# Read tokens from local file. This file consists of four lines, \n",
    "# ended in a newline. Each of these lines contains the in the order\n",
    "# specified below.\n",
    "consumer_key = oauth_token_file.readline()[:-1] # Strip '\\n'\n",
    "consumer_secret = oauth_token_file.readline()[:-1]\n",
    "access_token = oauth_token_file.readline()[:-1]\n",
    "access_token_secret = oauth_token_file.readline()[:-1]"
   ]
  },
  {
   "cell_type": "code",
   "execution_count": 4,
   "metadata": {
    "collapsed": false
   },
   "outputs": [],
   "source": [
    "# Configure and intialize the OAuth class\n",
    "from tweepy import OAuthHandler\n",
    "\n",
    "auth = OAuthHandler(consumer_key, consumer_secret)\n",
    "auth.set_access_token(access_token, access_token_secret)\n",
    "\n",
    "# Initialize Twitter API access\n",
    "api = tweepy.API(auth,wait_on_rate_limit = True, wait_on_rate_limit_notify = True)"
   ]
  },
  {
   "cell_type": "code",
   "execution_count": 5,
   "metadata": {
    "collapsed": false
   },
   "outputs": [
    {
     "name": "stdout",
     "output_type": "stream",
     "text": [
      "@RealDonaldTrump\n",
      "----------------------\n",
      "ID : 25073877\n",
      "Followers: 23275955\n"
     ]
    }
   ],
   "source": [
    "# Lets get information about a user\n",
    "target_user_name = 'RealDonaldTrump'\n",
    "target_user = api.get_user(target_user_name)\n",
    "\n",
    "# Some information\n",
    "print('@%s' % target_user_name)\n",
    "print('----------------------')\n",
    "print('ID : %s' % target_user.id)\n",
    "print('Followers: %s' % target_user.followers_count)"
   ]
  },
  {
   "cell_type": "code",
   "execution_count": 71,
   "metadata": {
    "collapsed": false
   },
   "outputs": [],
   "source": [
    "# Open database CSV file\n",
    "tweet_database_file_name = 'donald_dump.dat'\n",
    "tweet_database_file = open(tweet_database_file_name, 'w')\n",
    "# Write the header\n",
    "tweet_database_file.write('id\\tsource\\tsource_id\\ttimestamp\\ttext\\tfavorite_count\\tretweet_count\\tcoords\\n')\n",
    "\n",
    "# Define a function which will store the necessary details of the tweets\n",
    "def store_tweet(file, status, delim = '\\t'):\n",
    "    file.write('%d%s' % (status.id,delim))\n",
    "    file.write('\"%s\"%s' % (status.source,delim))\n",
    "    file.write('\"%s\"%s' % (status.source_url,delim))  # Just in case...\n",
    "    file.write('%d%s' % (status.created_at.timestamp(),delim))\n",
    "    # Process text ...?    \n",
    "    text = status.text.replace('\\n',' ')\n",
    "    file.write('\"%s\"%s' % (text,delim))\n",
    "    file.write('%d%s' % (status.favorite_count,delim))\n",
    "    file.write('%d%s' % (status.retweet_count,delim))\n",
    "    # Is there a coordinate ? \n",
    "    coord = 'NA' if (status.coordinates == None) else '\"%s\"' % status.coordinates\n",
    "    file.write('%s' % coord)\n",
    "    file.write('\\n')\n",
    "\n",
    "# Process and write tweets\n",
    "maximum_tweets = 100\n",
    "\n",
    "for status in tweepy.Cursor(api.user_timeline, id = target_user.id).items(maximum_tweets):\n",
    "    store_tweet(tweet_database_file,status)"
   ]
  },
  {
   "cell_type": "code",
   "execution_count": 70,
   "metadata": {
    "collapsed": false
   },
   "outputs": [
    {
     "name": "stdout",
     "output_type": "stream",
     "text": [
      "Line By Line\n"
     ]
    }
   ],
   "source": [
    "print('Line\\nBy\\nLine'.replace('\\n',' '))"
   ]
  },
  {
   "cell_type": "code",
   "execution_count": null,
   "metadata": {
    "collapsed": true
   },
   "outputs": [],
   "source": []
  }
 ],
 "metadata": {
  "kernelspec": {
   "display_name": "Python 3",
   "language": "python",
   "name": "python3"
  },
  "language_info": {
   "codemirror_mode": {
    "name": "ipython",
    "version": 3
   },
   "file_extension": ".py",
   "mimetype": "text/x-python",
   "name": "python",
   "nbconvert_exporter": "python",
   "pygments_lexer": "ipython3",
   "version": "3.5.2"
  }
 },
 "nbformat": 4,
 "nbformat_minor": 0
}
