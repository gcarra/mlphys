{
 "cells": [
  {
   "cell_type": "markdown",
   "metadata": {
    "deletable": true,
    "editable": true
   },
   "source": [
    "# Introduction to Python\n",
    "Before we can accomplish anything, we need a language to  accomplish it in. In this notebook, we will review programming in Python starting from an introductory level. We will assume that the student has at least some experience programming in another language or setting (e.g. C, C++, Fortran, Matlab...), but perhaps has not yet had an opportunity to learn Python. \n",
    "\n",
    "So, we will not cover some of the most basic programming conventions, but assume the student has at least a passing familiarity with variables, functions, and control flow: branching (***if-else***), looping (***for***, ***do-while***), and terminal & file I/O. "
   ]
  },
  {
   "cell_type": "markdown",
   "metadata": {
    "deletable": true,
    "editable": true
   },
   "source": [
    "## What is Python?\n",
    "---\n",
    "Python is a high-level general purpose *interpreted* computer language. An interpreted language is a language whose code does not need to be compiled prior to execution. This is quite differnt from languages such as C, C++, and Fortran, where one must compile human-readable code into machine instructions.\n",
    "\n",
    "In Python, all code is executed by the Python \"interpreter,\" a core program which reads our human-readable code and translates it into machine code as it runs. This allows for a number of dynamic features which are not supported in compiled lagnuages. For example, the Jupyter notebook we use now would not be possible without an interpreted language such as Python. "
   ]
  },
  {
   "cell_type": "code",
   "execution_count": null,
   "metadata": {
    "collapsed": false,
    "deletable": true,
    "editable": true
   },
   "outputs": [],
   "source": [
    "# An example of interpreted code execution ... !\n",
    "# (Comments are made using the # symbol)\n",
    "2 + 2"
   ]
  },
  {
   "cell_type": "markdown",
   "metadata": {
    "deletable": true,
    "editable": true
   },
   "source": [
    "Python also allows for \"dynamic typing\": variable types are not assigned by the coder, but are instead inferred by the Python interpreter. This reduces coding overhead, giving the programmer the ability for fast prototyping, but at times can require extra code to ensure that you have the right type ! Lets look at an example of dynamic typing."
   ]
  },
  {
   "cell_type": "code",
   "execution_count": null,
   "metadata": {
    "collapsed": false,
    "deletable": true,
    "editable": true
   },
   "outputs": [],
   "source": [
    "## A variable can be of any type.\n",
    "x = 2     # x is an integer...\n",
    "x = 2.0   # x is a float...\n",
    "x = 'hi'  # x is a string...\n",
    "\n",
    "## But sometimes this can cause problems\n",
    "x = 2 + x"
   ]
  },
  {
   "cell_type": "markdown",
   "metadata": {
    "deletable": true,
    "editable": true
   },
   "source": [
    "As we can see, if we aren't careful, re-assignment of variables can cause issues, so we need to be careful to make sure that we don't abuse this feature too heavily. We also can see that we have gotten our first error ! The Python interpreter will report errors as they occur. In a compiled language like C, the compiler would have returned an error during compilation as it would have detected this type-collision as a compile-time-error. However, for Python, since we only know the variable type at run-time, we instead have a run-time-error for this kind of type-mismatch. \n",
    "\n",
    "However, by abstracting the typing and addressing of variables, Python avoids many of the run-time errors which often appear in compiled languages. For example, we won't run into pointer errors, memory leaks, or other run-time errors (segmentation faults) often encountered in C and C++. Not having to debug memory problems is a big win compared to having to check types. For specific Python vs. language comparisons, [check out this page](https://www.python.org/doc/essays/comparisons/). Notably,\n",
    "\n",
    "> *\"Python code is typically 3-5 times shorter than equivalent Java code, it is often 5-10 times shorter than equivalent C++ code! Anecdotal evidence suggests that one Python programmer can finish in two months what two C++ programmers can't complete in a year.\"* -- Python Software Foundation"
   ]
  },
  {
   "cell_type": "markdown",
   "metadata": {
    "deletable": true,
    "editable": true
   },
   "source": [
    "## Python 2 vs Python 3\n",
    "---\n",
    "For those who have been using Python for a long time, one of the largest issues in the community is the distinction between Python 2 and Python 3. Python 3 was released around 2009, but because of many legacy packages and modules, many are still using Python 2.7. For the purposes of this demonstration class, we will be using Python 3, which introduces a number of new features over Python 2.\n",
    "\n",
    "For those who are more familiar with Python 2 and want to know more about the changes in Python 3, please see [this article by Guido van Rossum](https://docs.python.org/3.0/whatsnew/3.0.html)."
   ]
  },
  {
   "cell_type": "markdown",
   "metadata": {
    "deletable": true,
    "editable": true
   },
   "source": [
    "## The Basics\n",
    "---\n",
    "Let's start our crash course in Python coding by going over many of common strucures and variables which we use in Python programs. How about a \"Hello World\" ?"
   ]
  },
  {
   "cell_type": "code",
   "execution_count": null,
   "metadata": {
    "collapsed": false,
    "deletable": true,
    "editable": true
   },
   "outputs": [],
   "source": [
    "print('Hello World!')"
   ]
  },
  {
   "cell_type": "markdown",
   "metadata": {
    "deletable": true,
    "editable": true
   },
   "source": [
    "That was simple... no `int main(int argc, char** argv){...}` at all ! The `print` command is our basic output to the world. Let's look at the documentation for this command..."
   ]
  },
  {
   "cell_type": "code",
   "execution_count": null,
   "metadata": {
    "collapsed": false,
    "deletable": true,
    "editable": true
   },
   "outputs": [],
   "source": [
    "help(print)"
   ]
  },
  {
   "cell_type": "markdown",
   "metadata": {
    "deletable": true,
    "editable": true
   },
   "source": [
    "The print commands can take many different kinds of objects as inputs, and not just strings. The object just needs to have a defined display option."
   ]
  },
  {
   "cell_type": "code",
   "execution_count": null,
   "metadata": {
    "collapsed": false,
    "deletable": true,
    "editable": true
   },
   "outputs": [],
   "source": [
    "print(2.0)     # ...a float\n",
    "print(2)       # ...an integer\n",
    "print('c')     # ...a string\n",
    "print(print)   # ...a function handle, even"
   ]
  },
  {
   "cell_type": "markdown",
   "metadata": {
    "deletable": true,
    "editable": true
   },
   "source": [
    "Now, lets try a little bit of arithmetic. All of the normal mathematical operations behave as you would expect."
   ]
  },
  {
   "cell_type": "code",
   "execution_count": null,
   "metadata": {
    "collapsed": false,
    "deletable": true,
    "editable": true
   },
   "outputs": [],
   "source": [
    "## Set some variables !\n",
    "a = 2\n",
    "b = 3\n",
    "print('1)', a, '+', b, '=', a+b)\n",
    "print('2)', a, '-', b, '=', a-b)\n",
    "print('3)', a, '*', b, '=', a*b)\n",
    "print('4)', a, '/', b, '=', a/b)\n",
    "print('5)', a, '^', b, '=', a**b)\n",
    "print('6)', a, '%', b, '=', a%b)"
   ]
  },
  {
   "cell_type": "markdown",
   "metadata": {
    "deletable": true,
    "editable": true
   },
   "source": [
    "Now lets look at some control-flow structures. First, lets take a look at the format for branching code, e.g. *if-then-else*. These statements work in Python as you would expect them to in any other language you are familiar with. However, we must pay attention to the syntax. Unlike languages such as C/C++, where white space is very fluid and left up to the programmer via the use of backeting, the Python interpreter requires strict indentation of code in lieu of bracketing."
   ]
  },
  {
   "cell_type": "code",
   "execution_count": null,
   "metadata": {
    "collapsed": false,
    "deletable": true,
    "editable": true
   },
   "outputs": [],
   "source": [
    "some_value = -1\n",
    "\n",
    "# Branch based on the sign of the value\n",
    "if some_value == 0:\n",
    "    print('Value is equal to 0.')\n",
    "elif some_value > 0:\n",
    "    print('Value is positive.')\n",
    "else:\n",
    "    print('Value is negative.')"
   ]
  },
  {
   "cell_type": "markdown",
   "metadata": {
    "deletable": true,
    "editable": true
   },
   "source": [
    "Note that Python does not include an explicit `switch` control structure as in C/C++. Instead, one uses a ladder of `if-elif-elif-...` statements to accomplish the same goal, as we see above. Since Python 2.5, Python also has a ternary operator..."
   ]
  },
  {
   "cell_type": "code",
   "execution_count": null,
   "metadata": {
    "collapsed": false,
    "deletable": true,
    "editable": true
   },
   "outputs": [],
   "source": [
    "some_value = -2\n",
    "\n",
    "# Ternary operator is given as\n",
    "#    a if condition else b\n",
    "print('Value >= 0') if some_value >= 0 else print('Value is negative.')"
   ]
  },
  {
   "cell_type": "markdown",
   "metadata": {
    "deletable": true,
    "editable": true
   },
   "source": [
    "We will now look at basic loops in Python. In practice, the most common loop you will interface with is the `for` loop. Lets take a look at an example."
   ]
  },
  {
   "cell_type": "code",
   "execution_count": null,
   "metadata": {
    "collapsed": false,
    "deletable": true,
    "editable": true
   },
   "outputs": [],
   "source": [
    "n_loops = 3\n",
    "\n",
    "# We need an object to loop over. `range(0,x)` returns an iterator over the range [0,...,x-1]. \n",
    "for loop in range(0,n_loops):\n",
    "    print('Loop #',loop)"
   ]
  },
  {
   "cell_type": "markdown",
   "metadata": {
    "deletable": true,
    "editable": true
   },
   "source": [
    "In Python, you can loop over any iteratable object, not just numeric values. Lets take a look at a simple example by creating a list of values."
   ]
  },
  {
   "cell_type": "code",
   "execution_count": null,
   "metadata": {
    "collapsed": false,
    "deletable": true,
    "editable": true
   },
   "outputs": [],
   "source": [
    "# Iterate over a list of string values\n",
    "list_of_strings = ['just', 'a', 'list', 'of', 'strings']\n",
    "\n",
    "for string in list_of_strings:\n",
    "    print(string)"
   ]
  },
  {
   "cell_type": "markdown",
   "metadata": {
    "deletable": true,
    "editable": true
   },
   "source": [
    "Interestingly, because of the nature of dynamic typing in Python, our lists aren't restricted to a single type. A list can contain any number of objects, each of a different type."
   ]
  },
  {
   "cell_type": "code",
   "execution_count": null,
   "metadata": {
    "collapsed": false,
    "deletable": true,
    "editable": true
   },
   "outputs": [],
   "source": [
    "# Iterate over whatever\n",
    "list_of_whatever = ['just', 42, 'things', 3.14, print, ('i', 'guess')]\n",
    "\n",
    "for thing in list_of_whatever:\n",
    "    print(thing)"
   ]
  },
  {
   "cell_type": "markdown",
   "metadata": {
    "deletable": true,
    "editable": true
   },
   "source": [
    "---\n",
    "\n",
    "---\n",
    "## Ex 1: Calculate n!\n",
    "As an example, lets write a function to calculate the factorial of a given positive integer, $n! = n\\times(n-1)\\times(n-2)\\times\\cdots$, and $0! = 1$. Let's define this as a function so that we can use it again later."
   ]
  },
  {
   "cell_type": "code",
   "execution_count": null,
   "metadata": {
    "collapsed": false,
    "deletable": true,
    "editable": true
   },
   "outputs": [],
   "source": [
    "## Your solution below...\n",
    "def factorial(n):\n",
    "    pass # Replace with your code"
   ]
  },
  {
   "cell_type": "markdown",
   "metadata": {
    "deletable": true,
    "editable": true
   },
   "source": [
    "***Uncomment and run for solution...last resort !***"
   ]
  },
  {
   "cell_type": "code",
   "execution_count": null,
   "metadata": {
    "collapsed": false,
    "deletable": true,
    "editable": true
   },
   "outputs": [],
   "source": [
    "# %load example1.py"
   ]
  },
  {
   "cell_type": "markdown",
   "metadata": {
    "deletable": true,
    "editable": true
   },
   "source": [
    "### Validation\n"
   ]
  },
  {
   "cell_type": "code",
   "execution_count": null,
   "metadata": {
    "collapsed": false,
    "deletable": true,
    "editable": true
   },
   "outputs": [],
   "source": [
    "assert factorial(0) == 1\n",
    "assert factorial(6) == 720\n",
    "assert factorial(5) == 120\n",
    "assert factorial(10) == 3628800\n",
    "factorial(-1)\n",
    "factorial(2.5)\n",
    "print(\"Tests Passed !\")"
   ]
  },
  {
   "cell_type": "markdown",
   "metadata": {
    "deletable": true,
    "editable": true
   },
   "source": [
    "---\n",
    "\n",
    "---"
   ]
  },
  {
   "cell_type": "markdown",
   "metadata": {},
   "source": [
    "## Python as a Calculator\n",
    "Now, lets look at doing a number of basic math operations in Julia, including examples from linear algebra. Lets take a look at some simple scalar math operations first. \n",
    "\n",
    "In this case, we will need to import some extra functionality from the `math` package, a standard Python module which comes with the main Python distribution. Importing functionality is handled similar to C\\C++, however, there are certain namespace considerations that one must take into account. \n",
    "\n",
    "For example, if we want to use the exponential function from the `math` package, we have a few ways to go about this, depending on our desires as programmers.\n",
    "\n",
    "1. Simple approach.\n",
    "```python\n",
    ">>> import math\n",
    ">>> math.exp(1)\n",
    "2.718281828459045\n",
    "```\n",
    "\n",
    "2. Rename the package namespace to something shorter.\n",
    "```python\n",
    ">>> import math as m\n",
    ">>> m.exp(1)\n",
    "2.718281828459045\n",
    "```\n",
    "\n",
    "3. Import only selected objects from the package.\n",
    "```python\n",
    ">>> from math import exp\n",
    ">>> exp(1)\n",
    "2.718281828459045\n",
    "```\n",
    "\n",
    "There isn't a single right way to approach this, you just need to find an approach that fits your needs and makes your code concise and readable."
   ]
  },
  {
   "cell_type": "code",
   "execution_count": null,
   "metadata": {
    "collapsed": false
   },
   "outputs": [],
   "source": [
    "import math as m   # Just making an easy short name\n",
    "\n",
    "# Lets look at a basic right triangle...\n",
    "#      |\\\n",
    "#      | \\  h = ?\n",
    "# a=3  |  \\\n",
    "#      |___\\\n",
    "#       b=1\n",
    "#\n",
    "\n",
    "a = 3\n",
    "b = 1\n",
    "ang_ab = 90\n",
    "\n",
    "# Calculate the hypotenuse\n",
    "h = m.sqrt(a**2 + b**2)\n",
    "\n",
    "# Find remaining angles\n",
    "ang_bh = m.degrees(m.asin(a / h))\n",
    "ang_ah = 180 - ang_ab - ang_bh\n",
    "\n",
    "# Show results\n",
    "print('      %0.1f' % ang_ah)\n",
    "print('       | \\\\')\n",
    "print('       |  \\\\')\n",
    "print('       |   \\\\')      \n",
    "print('a = ',a,'|    \\\\  h = %0.1f' % h)\n",
    "print('       |     \\\\')\n",
    "print('       |      \\\\')\n",
    "print('       |       \\\\')\n",
    "print('       |90__%0.1f\\\\' % ang_bh)  \n",
    "print('         b =',b)"
   ]
  },
  {
   "cell_type": "markdown",
   "metadata": {},
   "source": [
    "So, we can do simple trigonometry. But we can also do logarithms, exponentials, etc. We also have some specific constants which are defined for us in `math`."
   ]
  },
  {
   "cell_type": "code",
   "execution_count": null,
   "metadata": {
    "collapsed": false
   },
   "outputs": [],
   "source": [
    "np.log(np.exp(np.pi))   # np.log() defaults to natural log"
   ]
  },
  {
   "cell_type": "markdown",
   "metadata": {},
   "source": [
    "Now lets say that you want to do some statistics. Maybe you want to start drawing samples from a particular distribution...or maybe you want to check its entropy. As with all things in Python, you should assume that this has already been implemented. And it has ! Check out `scipy.stats`. [(Full documentation here)](https://docs.scipy.org/doc/scipy-0.18.1/reference/stats.html)."
   ]
  },
  {
   "cell_type": "code",
   "execution_count": null,
   "metadata": {
    "collapsed": false
   },
   "outputs": [],
   "source": [
    "import scipy.stats as stat\n",
    "\n",
    "# Calclulate the entropy of a Laplace distribution\n",
    "mu  = 1\n",
    "sig = 3\n",
    "e = stat.laplace.entropy(loc=mu,scale=sig)    # Differential Entropy...\n",
    "\n",
    "# What about the higher-order moments?\n",
    "m, v, s, k = stat.laplace.stats(loc=mu,scale=sig,moments='mvsk')\n",
    "\n",
    "print('---- true dist. stats----')\n",
    "print('Mean           = %0.3f' % m)\n",
    "print('Variance       = %0.3f' % v)\n",
    "print('Skew           = %0.3f' % s)\n",
    "print('Kurtosis       = %0.3f' % k)\n",
    "print('Diff. Entropy  = %0.3f' % e)\n",
    "\n",
    "# We can generate data from this distribution\n",
    "data = stat.laplace.rvs(loc=mu, scale=sig, size=1000)\n",
    "\n",
    "# Fit parameters\n",
    "mu_fit, sig_fit = stat.laplace.fit(data)\n",
    "\n",
    "# See values\n",
    "m, v, s, k = stat.laplace.stats(loc=mu_fit,scale=sig_fit,moments='mvsk')\n",
    "e = stat.laplace.entropy(loc=mu_fit,scale=sig_fit)\n",
    "\n",
    "print('---- est dist. stats----')\n",
    "print('Mean           = %0.3f' % m)\n",
    "print('Variance       = %0.3f' % v)\n",
    "print('Skew           = %0.3f' % s)\n",
    "print('Kurtosis       = %0.3f' % k)\n",
    "print('Diff. Entropy  = %0.3f' % e)"
   ]
  },
  {
   "cell_type": "markdown",
   "metadata": {},
   "source": [
    "## Linear Algebra in Python\n",
    "So that was a nice simple example. What about calculating the value of a spin-glass Hamiltonaian with binary spins $s_i \\in \\pm 1$,\n",
    "$$\\mathcal{H}(\\mathbf{s}) = \\sum_{ij} J_{ij} s_i s_j.$$\n",
    "How can we calculate this Hamiltonian in Python? We have two approaches, one with direct coding, and the other with optimized linear algebra.\n",
    "\n",
    "First, lets set some of the parameters we would like to test..."
   ]
  },
  {
   "cell_type": "code",
   "execution_count": null,
   "metadata": {
    "collapsed": true
   },
   "outputs": [],
   "source": [
    "# Make use of numpy\n",
    "import numpy as np\n",
    "\n",
    "# Set experiment parameters\n",
    "nspins = 100\n",
    "\n",
    "# Create coupling set\n",
    "J = np.random.randn(nspins, nspins)    # Disordered \n",
    "np.fill_diagonal(J, 0.0)               # No self interactions\n",
    "\n",
    "# Create a spin configuration to evaluate\n",
    "s = np.sign(np.random.rand(nspins))"
   ]
  },
  {
   "cell_type": "markdown",
   "metadata": {},
   "source": [
    "Now lets take a look at the simple looping implementation."
   ]
  },
  {
   "cell_type": "code",
   "execution_count": null,
   "metadata": {
    "collapsed": true
   },
   "outputs": [],
   "source": [
    "def loop_hamiltonian(J,s):\n",
    "    \"\"\"\n",
    "        Calculate the Hamiltonian with a loop.\n",
    "    \"\"\"\n",
    "    H = 0\n",
    "    for i in range(0,nspins):\n",
    "        for j in range(0,nspins):\n",
    "            H += J[i,j] * s[i] * s[j]\n",
    "    return H        "
   ]
  },
  {
   "cell_type": "markdown",
   "metadata": {},
   "source": [
    "We can use the Jupyter magic `%time` to see the executing time for a given command."
   ]
  },
  {
   "cell_type": "code",
   "execution_count": null,
   "metadata": {
    "collapsed": false
   },
   "outputs": [],
   "source": [
    "%time loop_hamiltonian(J,s)"
   ]
  },
  {
   "cell_type": "markdown",
   "metadata": {},
   "source": [
    "And now lets try a linear algebra implementation."
   ]
  },
  {
   "cell_type": "code",
   "execution_count": null,
   "metadata": {
    "collapsed": true
   },
   "outputs": [],
   "source": [
    "def linalg_hamiltonian(J,s):\n",
    "    \"\"\"\n",
    "        Calculate the Hamiltonian with NumPy\n",
    "    \"\"\"\n",
    "    # Use np.dot() to perform matrix-vector operations\n",
    "    return np.dot(s,np.dot(J,s))"
   ]
  },
  {
   "cell_type": "code",
   "execution_count": null,
   "metadata": {
    "collapsed": false
   },
   "outputs": [],
   "source": [
    "%time linalg_hamiltonian(J,s)"
   ]
  },
  {
   "cell_type": "markdown",
   "metadata": {},
   "source": [
    "So, in this case we see that we get a significant speed up by using linear algebra instead of manually looping over the elements of the Hamiltonian. Because Python is not a complied language, loops like this will never be as optimized as they are in C/C++, hence we have a lot of overhead in making loops over huge sets. \n",
    "\n",
    "Instead, wherever possible, one should think in terms of matrix operations and linear algebra. While the $O(n)$ of the operations does not change, the practical efficiency of such approaches is dramatically changed. This is because NumPy makes use of extremely optimized libraries (OpenBLAS, Accelerate, ATLAS, etc.), which themselves make use of highly efficient caching and parallel operations, to compute linear algebra operations."
   ]
  },
  {
   "cell_type": "markdown",
   "metadata": {
    "deletable": true,
    "editable": true
   },
   "source": [
    "## Classes\n",
    "---\n",
    "Like C/C++ and Java, Python supports class structures. However, it is not an \"Object Oriented Langauge\" in the truest sense. It does not support strict encapsulation, i.e. privatizing object data. However, it does support the convenience of classes in every other way. Lets take a look at an example. Here, we define a class for an *Agent*, which moves around on a 2D grid, evaluating the utility around it."
   ]
  },
  {
   "cell_type": "code",
   "execution_count": null,
   "metadata": {
    "collapsed": false,
    "deletable": true,
    "editable": true
   },
   "outputs": [],
   "source": [
    "class Agent:\n",
    "    \"\"\"\n",
    "        A simple class which defines an `agent`, some decision making\n",
    "        entity which wants to maximize its own reward.\n",
    "    \"\"\"    \n",
    "    def __init__(self, utility=0, position=(0.0,0.0), utility_func = None, step_size = 1.0):\n",
    "        \"\"\"\n",
    "            The initialization function gets called by the interpreter\n",
    "            every time a new object of the Agent class gets created.\n",
    "            \n",
    "            :param utility: Agent's current utility value.\n",
    "            :param utility_func: Function with which to evaluate the utility of the agent. \n",
    "                                 The funciton `utility_func` takes an (x,y) coordinate and\n",
    "                                 reports a utility.\n",
    "            :param position: Agent's current position (x,y)\n",
    "            \n",
    "        \"\"\"\n",
    "        self.utility = utility\n",
    "        self.position = position\n",
    "        self.utility_func = utility_func\n",
    "        self.history = dict(position = [], utility = [])\n",
    "        self.step_size = step_size\n",
    "    \n",
    "    def __repr__(self):\n",
    "        \"\"\"\n",
    "            This function gets called whenever the interpreter needs a \"formal\" \n",
    "            string representation (error logs, etc.)\n",
    "        \"\"\"\n",
    "        return \"Agent<p:%s, u:%s>\" %(self.position, self.utility)\n",
    "    \n",
    "    def __str__(self):\n",
    "        \"\"\"\n",
    "            This function gets called by the interpreter whenever\n",
    "            there needs to be a \"user friendly\" \n",
    "            string description of the Agent object (e.g. `print(Agent())`).\n",
    "        \"\"\"\n",
    "        return \"Agent @ %s [u=%s]\" % (self.position, self.utility)\n",
    "    \n",
    "    def record_state(self):\n",
    "        \"\"\"\n",
    "            Store the current state of the agent in a queue.\n",
    "        \"\"\"\n",
    "        self.history['position'].append(self.position)\n",
    "        self.history['utility'].append(self.utility)\n",
    "    \n",
    "    def move_up(self):\n",
    "        \"\"\"\n",
    "            Increment the Y coordinate of the agent.\n",
    "        \"\"\"\n",
    "        self.record_state()\n",
    "        self.position = (self.position[0], self.position[1]+self.step_size)\n",
    "        self.utility = self.evaluate_utility()\n",
    "        \n",
    "    def move_down(self):\n",
    "        \"\"\"\n",
    "            Decrement the Y coordinate of the agent.\n",
    "        \"\"\"\n",
    "        self.record_state()\n",
    "        self.position = (self.position[0], self.position[1]-self.step_size)\n",
    "        self.utility = self.evaluate_utility()\n",
    "        \n",
    "    def move_left(self):\n",
    "        \"\"\"\n",
    "            Decrement the X coordinate of the agent\n",
    "        \"\"\"\n",
    "        self.record_state()\n",
    "        self.position = (self.position[0]-self.step_size, self.position[1])\n",
    "        self.utility = self.evaluate_utility()\n",
    "        \n",
    "    def move_right(self):\n",
    "        \"\"\"\n",
    "            Increment the X coordinate of the agent\n",
    "        \"\"\"\n",
    "        self.record_state()\n",
    "        self.position = (self.position[0]+self.step_size, self.position[1])\n",
    "        self.utility = self.evaluate_utility()\n",
    "        \n",
    "    def evaluate_utility(self, offset=(0.0, 0.0)):\n",
    "        \"\"\"\n",
    "            Get the utility function relative to the current agent\n",
    "            location. Optinally, evaluate at some offset from the agent.\n",
    "            \n",
    "            :param offset: Tuple of (x,y) coordinates with which to offset the agent\n",
    "                           position to evaluate the utility.\n",
    "            :return: A numeric value for the utility at the evaluated point\n",
    "        \"\"\"\n",
    "        if self.utility_func == None:\n",
    "            return 0   # Simple Agent with simple utility\n",
    "        else:\n",
    "            return self.utility_func((self.position[0]+offset[0],\n",
    "                                      self.position[1]+offset[1]))\n",
    "        \n"
   ]
  },
  {
   "cell_type": "markdown",
   "metadata": {
    "deletable": true,
    "editable": true
   },
   "source": [
    "To use the class, we just need to initialize an object with the Agent constructor. In this case, all of the default values get used. Additionally, we do not yet specify a utility function for the space in which the Agent lives. We can call functions from the agent class for this particular agent and see what its up to."
   ]
  },
  {
   "cell_type": "code",
   "execution_count": null,
   "metadata": {
    "collapsed": false,
    "deletable": true,
    "editable": true
   },
   "outputs": [],
   "source": [
    "# Instantiate the Agent object, `heri`...\n",
    "henri = Agent()\n",
    "print('[t = 0]', henri, 'History:', henri.history)\n",
    "\n",
    "# Try moving around a bit and look at the history\n",
    "henri.move_up()\n",
    "print('[t = 1]', henri, 'History:', henri.history)\n",
    "\n",
    "henri.move_left()\n",
    "print('[t = 2]', henri, 'History:', henri.history)\n",
    "\n",
    "henri.move_up()\n",
    "print('[t = 3]', henri, 'History:', henri.history)"
   ]
  },
  {
   "cell_type": "markdown",
   "metadata": {
    "deletable": true,
    "editable": true
   },
   "source": [
    "With the way that we've written the `Agent` class, we can also pass it any position-based utility function. Lets think about putting Henri in some kind of landscape. In this case, what about a simple isometric 2D Gaussian utility which has a single maximizing point, so something following a simple function like...\n",
    "$$U(\\mathbf{x}) = \\frac{1}{2\\pi\\sigma} e ^{-\\frac{(\\mathbf{x} - \\boldsymbol{\\mu})^T(\\mathbf{x} - \\boldsymbol{\\mu})}{2\\sigma^2} }$$"
   ]
  },
  {
   "cell_type": "code",
   "execution_count": null,
   "metadata": {
    "collapsed": false,
    "deletable": true,
    "editable": true
   },
   "outputs": [],
   "source": [
    "from math import exp, sqrt, pi\n",
    "\n",
    "def gaussian_utility(position, mean=(0.0,0.0), sig=1.0):\n",
    "    \"\"\"\n",
    "        A simple utility function, essentially just an iid \n",
    "        multivariate normal.\n",
    "    \"\"\"\n",
    "    # Get the variance\n",
    "    v = sig**2\n",
    "    # Calculate distance from mean\n",
    "    d = (position[0] - mean[0], position[1] - mean[1])\n",
    "    dTd = d[0]**2/v + d[1]**2/v\n",
    "    # Scaling\n",
    "    scale = 1/(2*pi*v)\n",
    "    # Final computation\n",
    "    utility = scale * exp(-0.5 * dTd)\n",
    "    utility += 1e-12\n",
    "        \n",
    "    return utility"
   ]
  },
  {
   "cell_type": "markdown",
   "metadata": {
    "deletable": true,
    "editable": true
   },
   "source": [
    "Now that we have a utility function defined, lets put Henri on the field, so to speak. We can assign pass this utility function to our `Agent` class by way of a **lambda** function. A lambda function allows us to define a new call to a specific funciton where some parameters are fixed, and some are variable. In our case, we want the parameters of the utility function (the mean and standard deviation) to remain fixed, while we vary the position. A simple lambda function definition looks like the following example.\n",
    "\n",
    "```python\n",
    "    >>> def foo(param1, param2):\n",
    "    ...     return param1 + param2\n",
    "    ...\n",
    "    >>> foo_single_param = lambda value: foo(value, 4)\n",
    "    >>> foo_single_param(2)\n",
    "    6\n",
    "```\n",
    "\n",
    "We can use this to pass a lambda function as the utility for the Agent. Let's see how to do this, below"
   ]
  },
  {
   "cell_type": "code",
   "execution_count": null,
   "metadata": {
    "collapsed": false,
    "deletable": true,
    "editable": true
   },
   "outputs": [],
   "source": [
    "# Define some parameters for the utility function\n",
    "utility_peak = (2.0,2.0)\n",
    "utility_sigma = 1.0\n",
    "\n",
    "utility_lambda = lambda position: gaussian_utility(position, mean=utility_peak, sig=utility_sigma)\n",
    "\n",
    "henri = Agent(utility_func = utility_lambda)\n",
    "print('[t = 0]', henri)\n",
    "\n",
    "# Try moving around a bit and look at the history\n",
    "henri.move_up()\n",
    "print('[t = 1]', henri)\n",
    "\n",
    "henri.move_right()\n",
    "print('[t = 2]', henri)\n",
    "\n",
    "henri.move_up()\n",
    "print('[t = 3]', henri)\n",
    "\n",
    "henri.move_right()\n",
    "print('[t = 4]', henri)\n",
    "\n",
    "henri.move_up()\n",
    "print('[t = 5]', henri)"
   ]
  },
  {
   "cell_type": "markdown",
   "metadata": {
    "deletable": true,
    "editable": true
   },
   "source": [
    "---\n",
    "\n",
    "---\n",
    "\n",
    "## Ex. 2 Stochastic Climber\n",
    "Let's say that we have a climber, and he wants to climb the tallest peak around. However, a strong fog has rolled in over the valley in which he resides. He can only see the ground just in front of him. He knows that if he always takes the path upwards at each step, he'll arrive at a peak...but probably not the *tallest* peak. Instead, he plans to take an alterante stochastic strategy.\n",
    "\n",
    "At each time interval, he looks at the paths infront of him: N, S, E, and W. He then takes off in a random direction, whose probability is proportional to the inclines around him. He figures that this will at least give him some chance to arrive at the tallest peak. \n",
    "\n",
    "Write a class which inherits the `Agent` class and extends it into a `StochasticClimber` class. Write a `climb` function which takes the number of time steps as input and runs the stochastic climber."
   ]
  },
  {
   "cell_type": "code",
   "execution_count": null,
   "metadata": {
    "collapsed": true,
    "deletable": true,
    "editable": true
   },
   "outputs": [],
   "source": [
    "class StochasticClimber(Agent):    # Inherit from class Agent\n",
    "    def climb(self, steps=1):\n",
    "        \"\"\" Implement me !\n",
    "            Run the stochastic climber for the specified number of steps\n",
    "        \"\"\"\n",
    "        pass"
   ]
  },
  {
   "cell_type": "markdown",
   "metadata": {
    "deletable": true,
    "editable": true
   },
   "source": [
    "*Solution*"
   ]
  },
  {
   "cell_type": "code",
   "execution_count": null,
   "metadata": {
    "collapsed": true,
    "deletable": true,
    "editable": true
   },
   "outputs": [],
   "source": [
    "# %load example2.py"
   ]
  },
  {
   "cell_type": "markdown",
   "metadata": {
    "deletable": true,
    "editable": true
   },
   "source": [
    "### Validation"
   ]
  },
  {
   "cell_type": "code",
   "execution_count": null,
   "metadata": {
    "collapsed": false,
    "deletable": true,
    "editable": true
   },
   "outputs": [],
   "source": [
    "# Create some landscape for our climber. In this case we have a mountain range like the following\n",
    "#          L\n",
    "#          |\n",
    "#          G\n",
    "#        /  \\\n",
    "#       L    L\n",
    "#\n",
    "#    S   <-- start position\n",
    "#\n",
    "mountain_range = lambda p : gaussian_utility(p, mean=(2.0,2.0), sig = 0.1) + \\\n",
    "                            gaussian_utility(p, mean=(2.0,3.0), sig = 0.5) + \\\n",
    "                            gaussian_utility(p, mean=(1.0,1.0), sig = 0.5) + \\\n",
    "                            gaussian_utility(p, mean=(3.0,1.0), sig = 0.5)\n",
    "            \n",
    "\n",
    "# Run our climber\n",
    "yves = StochasticClimber(utility_func=mountain_range, step_size=0.05)\n",
    "yves.climb(steps=40000)"
   ]
  },
  {
   "cell_type": "markdown",
   "metadata": {
    "deletable": true,
    "editable": true
   },
   "source": [
    "---\n",
    "\n",
    "---"
   ]
  },
  {
   "cell_type": "markdown",
   "metadata": {
    "deletable": true,
    "editable": true
   },
   "source": [
    "## File I/O\n",
    "\n",
    "Now that we have run our experiment with the `StochasticClimber`, lets say that we want to save that data to disk for use later. Perhaps for a figure (e.g. next notebook). It would be nice to not have to re-run the experiment each time we want to generate a new figure ! Lets take a look at basic file I/O and see how to write a Python or CSV file containing our results. \n",
    "\n",
    "In the first case, lets take a look at the simplest approach, which is to store the entire `yves` object to disk. Using the `pickle` module, we can store Python data to disk and load it again later. This works in much the same was as `mat` files in Matlab. "
   ]
  },
  {
   "cell_type": "code",
   "execution_count": null,
   "metadata": {
    "collapsed": false,
    "deletable": true,
    "editable": true
   },
   "outputs": [],
   "source": [
    "import pickle\n",
    "\n",
    "# A simple example...\n",
    "pickle.dump(yves, open('yves.p','wb'))"
   ]
  },
  {
   "cell_type": "markdown",
   "metadata": {
    "deletable": true,
    "editable": true
   },
   "source": [
    "However, we see that not all things can be pickled. In this case, our lambda function cannot be stored in disk. We will, instead, have to store our static structures (in this case, the history). "
   ]
  },
  {
   "cell_type": "code",
   "execution_count": null,
   "metadata": {
    "collapsed": false,
    "deletable": true,
    "editable": true
   },
   "outputs": [],
   "source": [
    "with open('yves.p', 'wb') as pickle_file:\n",
    "    pickle.dump(yves.history,pickle_file)"
   ]
  },
  {
   "cell_type": "markdown",
   "metadata": {
    "deletable": true,
    "editable": true
   },
   "source": [
    "This \"*`with a as f:`*\" control block will attempt to open the specified file and will additionally close the file handle at the end of the block. This is handy in the even that there is an error during the file I/O that might leave a file hanging open.\n",
    "\n",
    "Now lets take a look at what we've got. As we can see below, we now have the `yves.p` file saved to disk. This contains the `StochasticClimber` history."
   ]
  },
  {
   "cell_type": "code",
   "execution_count": null,
   "metadata": {
    "collapsed": false,
    "deletable": true,
    "editable": true
   },
   "outputs": [],
   "source": [
    "%ls"
   ]
  },
  {
   "cell_type": "markdown",
   "metadata": {
    "deletable": true,
    "editable": true
   },
   "source": [
    "Now, lets take a look at loading that to make sure that its there."
   ]
  },
  {
   "cell_type": "code",
   "execution_count": null,
   "metadata": {
    "collapsed": false,
    "deletable": true,
    "editable": true
   },
   "outputs": [],
   "source": [
    "with open('yves.p','rb') as pickle_file:\n",
    "    yves_history_copy = pickle.load(pickle_file)\n",
    "print(yves_history_copy)  # <-- Write a huge dataset below !"
   ]
  },
  {
   "cell_type": "markdown",
   "metadata": {
    "deletable": true,
    "editable": true
   },
   "source": [
    "We take note of a few aspects of this pickle example. Specifically, the `pick.dump()` and `pickle.load()` commands take file handles, not file names themselves. This means that we need to specify the read and write options. In both cases we are dumping all the data as binary (not strings), so we specify the 'b' option when using `open()`. \n",
    "\n",
    "Now, what do we do if we want to write data to disk that can be accessed by any other program (e.g. Excel, gnuplot, etc...)? We can also write all of this data out as a CSV, too. Lets take a look at this example. Here, we will make use of pandas to do this easily."
   ]
  },
  {
   "cell_type": "code",
   "execution_count": null,
   "metadata": {
    "collapsed": false,
    "deletable": true,
    "editable": true
   },
   "outputs": [],
   "source": [
    "import pandas as pd\n",
    "\n",
    "# Create a new dictionary whose keys represent the headers (columns)\n",
    "# of information that we would like to store in the CSV file.\n",
    "yves_csv = dict(x=[], y=[], z=[])\n",
    "yves_csv['x'] = [yves.history['position'][i][0] for i in range(0,len(yves.history['position']))]\n",
    "yves_csv['y'] = [yves.history['position'][i][1] for i in range(0,len(yves.history['position']))]\n",
    "yves_csv['z'] = yves.history['utility']\n",
    "\n",
    "# Create a DataFrame object from a dictionary\n",
    "df = pd.DataFrame.from_dict(yves_csv)\n",
    "# Write to CSV format\n",
    "df.to_csv(\"yves.csv\", sep=',', header=True, index=False)  \n",
    "%ls"
   ]
  },
  {
   "cell_type": "markdown",
   "metadata": {
    "deletable": true,
    "editable": true
   },
   "source": [
    "And now we see the CSV file written out to disk. Voilà! "
   ]
  }
 ],
 "metadata": {
  "kernelspec": {
   "display_name": "Python 3",
   "language": "python",
   "name": "python3"
  },
  "language_info": {
   "codemirror_mode": {
    "name": "ipython",
    "version": 3
   },
   "file_extension": ".py",
   "mimetype": "text/x-python",
   "name": "python",
   "nbconvert_exporter": "python",
   "pygments_lexer": "ipython3",
   "version": "3.6.0"
  }
 },
 "nbformat": 4,
 "nbformat_minor": 0
}
