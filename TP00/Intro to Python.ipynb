{
 "cells": [
  {
   "cell_type": "markdown",
   "metadata": {},
   "source": [
    "# Introduction to Python\n",
    "Before we can accomplish anything, we need a language to  accomplish it in. In this notebook, we will review programming in Python starting from an introductory level. We will assume that the student has at least some experience programming in another language or setting (e.g. C, C++, Fortran, Matlab...), but perhaps has not yet had an opportunity to learn Python. \n",
    "\n",
    "So, we will not cover some of the most basic programming conventions, but assume the student has at least a passing familiarity with variables, functions, and control flow: branching (***if-else***), looping (***for***, ***do-while***), and terminal & file I/O. "
   ]
  },
  {
   "cell_type": "markdown",
   "metadata": {},
   "source": [
    "## What is Python?\n",
    "---\n",
    "Python is a high-level general purpose *interpreted* computer language. An interpreted language is a language whose code does not need to be compiled prior to execution. This is quite differnt from languages such as C, C++, and Fortran, where one must compile human-readable code into machine instructions.\n",
    "\n",
    "In Python, all code is executed by the Python \"interpreter,\" a core program which reads our human-readable code and translates it into machine code as it runs. This allows for a number of dynamic features which are not supported in compiled lagnuages. For example, the Jupyter notebook we use now would not be possible without an interpreted language such as Python. "
   ]
  },
  {
   "cell_type": "code",
   "execution_count": 2,
   "metadata": {
    "collapsed": false
   },
   "outputs": [
    {
     "data": {
      "text/plain": [
       "4"
      ]
     },
     "execution_count": 2,
     "metadata": {},
     "output_type": "execute_result"
    }
   ],
   "source": [
    "# An example of interpreted code execution ... !\n",
    "# (Comments are made using the # symbol)\n",
    "2 + 2"
   ]
  },
  {
   "cell_type": "markdown",
   "metadata": {},
   "source": [
    "Python also allows for \"dynamic typing\": variable types are not assigned by the coder, but are instead inferred by the Python interpreter. This reduces coding overhead, giving the programmer the ability for fast prototyping, but at times can require extra code to ensure that you have the right type ! Lets look at an example of dynamic typing."
   ]
  },
  {
   "cell_type": "code",
   "execution_count": 5,
   "metadata": {
    "collapsed": false
   },
   "outputs": [
    {
     "ename": "TypeError",
     "evalue": "unsupported operand type(s) for +: 'int' and 'str'",
     "output_type": "error",
     "traceback": [
      "\u001b[0;31m---------------------------------------------------------------------------\u001b[0m",
      "\u001b[0;31mTypeError\u001b[0m                                 Traceback (most recent call last)",
      "\u001b[0;32m<ipython-input-5-0fdaf3e2ab77>\u001b[0m in \u001b[0;36m<module>\u001b[0;34m()\u001b[0m\n\u001b[1;32m      5\u001b[0m \u001b[0;34m\u001b[0m\u001b[0m\n\u001b[1;32m      6\u001b[0m \u001b[0;31m## But sometimes this can cause problems\u001b[0m\u001b[0;34m\u001b[0m\u001b[0;34m\u001b[0m\u001b[0m\n\u001b[0;32m----> 7\u001b[0;31m \u001b[0mX\u001b[0m \u001b[0;34m=\u001b[0m \u001b[0;36m2\u001b[0m \u001b[0;34m+\u001b[0m \u001b[0mX\u001b[0m\u001b[0;34m\u001b[0m\u001b[0m\n\u001b[0m",
      "\u001b[0;31mTypeError\u001b[0m: unsupported operand type(s) for +: 'int' and 'str'"
     ]
    }
   ],
   "source": [
    "## A variable can be of any type.\n",
    "x = 2     # x is an integer...\n",
    "x = 2.0   # x is a float...\n",
    "x = 'hi'  # x is a string...\n",
    "\n",
    "## But sometimes this can cause problems\n",
    "x = 2 + x"
   ]
  },
  {
   "cell_type": "markdown",
   "metadata": {},
   "source": [
    "As we can see, if we aren't careful, re-assignment of variables can cause issues, so we need to be careful to make sure that we don't abuse this feature too heavily. We also can see that we have gotten our first error ! The Python interpreter will report errors as they occur. In a compiled language like C, the compiler would have returned an error during compilation as it would have detected this type-collision as a compile-time-error. However, for Python, since we only know the variable type at run-time, we instead have a run-time-error for this kind of type-mismatch. \n",
    "\n",
    "However, by abstracting the typing and addressing of variables, Python avoids many of the run-time errors which often appear in compiled languages. For example, we won't run into pointer errors, memory leaks, or other run-time errors (segmentation faults) often encountered in C and C++. Not having to debug memory problems is a big win compared to having to check types. For specific Python vs. language comparisons, [check out this page](https://www.python.org/doc/essays/comparisons/). Notably,\n",
    "\n",
    "> *\"Python code is typically 3-5 times shorter than equivalent Java code, it is often 5-10 times shorter than equivalent C++ code! Anecdotal evidence suggests that one Python programmer can finish in two months what two C++ programmers can't complete in a year.\"* -- Python Software Foundation"
   ]
  },
  {
   "cell_type": "markdown",
   "metadata": {},
   "source": [
    "## Python 2 vs Python 3\n",
    "---\n",
    "For those who have been using Python for a long time, one of the largest issues in the community is the distinction between Python 2 and Python 3. Python 3 was released around 2009, but because of many legacy packages and modules, many are still using Python 2.7. For the purposes of this demonstration class, we will be using Python 3, which introduces a number of new features over Python 2.\n",
    "\n",
    "For those who are more familiar with Python 2 and want to know more about the changes in Python 3, please see [this article by Guido van Rossum](https://docs.python.org/3.0/whatsnew/3.0.html)."
   ]
  },
  {
   "cell_type": "markdown",
   "metadata": {},
   "source": [
    "## The Basics\n",
    "---\n",
    "Let's start our crash course in Python coding by going over many of common strucures and variables which we use in Python programs. How about a \"Hello World\" ?"
   ]
  },
  {
   "cell_type": "code",
   "execution_count": 8,
   "metadata": {
    "collapsed": false
   },
   "outputs": [
    {
     "name": "stdout",
     "output_type": "stream",
     "text": [
      "Hello World!\n"
     ]
    }
   ],
   "source": [
    "print('Hello World!')"
   ]
  },
  {
   "cell_type": "markdown",
   "metadata": {},
   "source": [
    "That was simple... no `int main(int argc, char** argv){...}` at all ! The `print` command is our basic output to the world. Let's look at the documentation for this command..."
   ]
  },
  {
   "cell_type": "code",
   "execution_count": 10,
   "metadata": {
    "collapsed": false
   },
   "outputs": [
    {
     "name": "stdout",
     "output_type": "stream",
     "text": [
      "Help on built-in function print in module builtins:\n",
      "\n",
      "print(...)\n",
      "    print(value, ..., sep=' ', end='\\n', file=sys.stdout, flush=False)\n",
      "    \n",
      "    Prints the values to a stream, or to sys.stdout by default.\n",
      "    Optional keyword arguments:\n",
      "    file:  a file-like object (stream); defaults to the current sys.stdout.\n",
      "    sep:   string inserted between values, default a space.\n",
      "    end:   string appended after the last value, default a newline.\n",
      "    flush: whether to forcibly flush the stream.\n",
      "\n"
     ]
    }
   ],
   "source": [
    "help(print)"
   ]
  },
  {
   "cell_type": "markdown",
   "metadata": {},
   "source": [
    "The print commands can take many different kinds of objects as inputs, and not just strings. The object just needs to have a defined display option."
   ]
  },
  {
   "cell_type": "code",
   "execution_count": 18,
   "metadata": {
    "collapsed": false
   },
   "outputs": [
    {
     "name": "stdout",
     "output_type": "stream",
     "text": [
      "2.0\n",
      "2\n",
      "c\n",
      "<built-in function print>\n"
     ]
    }
   ],
   "source": [
    "print(2.0)     # ...a float\n",
    "print(2)       # ...an integer\n",
    "print('c')     # ...a string\n",
    "print(print)   # ...a function handle, even"
   ]
  },
  {
   "cell_type": "markdown",
   "metadata": {},
   "source": [
    "Now, lets try a little bit of arithmetic. All of the normal mathematical operations behave as you would expect."
   ]
  },
  {
   "cell_type": "code",
   "execution_count": 31,
   "metadata": {
    "collapsed": false
   },
   "outputs": [
    {
     "name": "stdout",
     "output_type": "stream",
     "text": [
      "1) 2 + 3 = 5\n",
      "2) 2 - 3 = -1\n",
      "3) 2 * 3 = 6\n",
      "4) 2 / 3 = 0.6666666666666666\n",
      "5) 2 ^ 3 = 8\n",
      "5) 2 % 3 = 2\n"
     ]
    }
   ],
   "source": [
    "## Set some variables !\n",
    "a = 2\n",
    "b = 3\n",
    "print('1)', a, '+', b, '=', a+b)\n",
    "print('2)', a, '-', b, '=', a-b)\n",
    "print('3)', a, '*', b, '=', a*b)\n",
    "print('4)', a, '/', b, '=', a/b)\n",
    "print('5)', a, '^', b, '=', a**b)\n",
    "print('5)', a, '%', b, '=', a%b)"
   ]
  },
  {
   "cell_type": "code",
   "execution_count": null,
   "metadata": {
    "collapsed": true
   },
   "outputs": [],
   "source": []
  }
 ],
 "metadata": {
  "kernelspec": {
   "display_name": "Python 3",
   "language": "python",
   "name": "python3"
  },
  "language_info": {
   "codemirror_mode": {
    "name": "ipython",
    "version": 3
   },
   "file_extension": ".py",
   "mimetype": "text/x-python",
   "name": "python",
   "nbconvert_exporter": "python",
   "pygments_lexer": "ipython3",
   "version": "3.5.2"
  }
 },
 "nbformat": 4,
 "nbformat_minor": 0
}
