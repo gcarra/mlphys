{
 "cells": [
  {
   "cell_type": "markdown",
   "metadata": {},
   "source": [
    "# Introduction to Python\n",
    "Before we can accomplish anything, we need a language to  accomplish it in. In this notebook, we will review programming in Python starting from an introductory level. We will assume that the student has at least some experience programming in another language or setting (e.g. C, C++, Fortran, Matlab...), but perhaps has not yet had an opportunity to learn Python. \n",
    "\n",
    "So, we will not cover some of the most basic programming conventions, but assume the student has at least a passing familiarity with variables, functions, and control flow: branching (***if-else***), looping (***for***, ***do-while***), and terminal & file I/O. "
   ]
  },
  {
   "cell_type": "markdown",
   "metadata": {},
   "source": [
    "## What is Python?\n",
    "---\n",
    "Python is a high-level general purpose *interpreted* computer language. An interpreted language is a language whose code does not need to be compiled prior to execution. This is quite differnt from languages such as C, C++, and Fortran, where one must compile human-readable code into machine instructions.\n",
    "\n",
    "In Python, all code is executed by the Python \"interpreter,\" a core program which reads our human-readable code and translates it into machine code as it runs. This allows for a number of dynamic features which are not supported in compiled lagnuages. For example, the Jupyter notebook we use now would not be possible without an interpreted language such as Python. "
   ]
  },
  {
   "cell_type": "code",
   "execution_count": 2,
   "metadata": {
    "collapsed": false
   },
   "outputs": [
    {
     "data": {
      "text/plain": [
       "4"
      ]
     },
     "execution_count": 2,
     "metadata": {},
     "output_type": "execute_result"
    }
   ],
   "source": [
    "# An example of interpreted code execution ... !\n",
    "# (Comments are made using the # symbol)\n",
    "2 + 2"
   ]
  },
  {
   "cell_type": "markdown",
   "metadata": {},
   "source": [
    "Python also allows for \"dynamic typing\": variable types are not assigned by the coder, but are instead inferred by the Python interpreter. This reduces coding overhead, giving the programmer the ability for fast prototyping, but at times can require extra code to ensure that you have the right type ! Lets look at an example of dynamic typing."
   ]
  },
  {
   "cell_type": "code",
   "execution_count": 5,
   "metadata": {
    "collapsed": false
   },
   "outputs": [
    {
     "ename": "TypeError",
     "evalue": "unsupported operand type(s) for +: 'int' and 'str'",
     "output_type": "error",
     "traceback": [
      "\u001b[0;31m---------------------------------------------------------------------------\u001b[0m",
      "\u001b[0;31mTypeError\u001b[0m                                 Traceback (most recent call last)",
      "\u001b[0;32m<ipython-input-5-0fdaf3e2ab77>\u001b[0m in \u001b[0;36m<module>\u001b[0;34m()\u001b[0m\n\u001b[1;32m      5\u001b[0m \u001b[0;34m\u001b[0m\u001b[0m\n\u001b[1;32m      6\u001b[0m \u001b[0;31m## But sometimes this can cause problems\u001b[0m\u001b[0;34m\u001b[0m\u001b[0;34m\u001b[0m\u001b[0m\n\u001b[0;32m----> 7\u001b[0;31m \u001b[0mX\u001b[0m \u001b[0;34m=\u001b[0m \u001b[0;36m2\u001b[0m \u001b[0;34m+\u001b[0m \u001b[0mX\u001b[0m\u001b[0;34m\u001b[0m\u001b[0m\n\u001b[0m",
      "\u001b[0;31mTypeError\u001b[0m: unsupported operand type(s) for +: 'int' and 'str'"
     ]
    }
   ],
   "source": [
    "## A variable can be of any type.\n",
    "x = 2     # x is an integer...\n",
    "x = 2.0   # x is a float...\n",
    "x = 'hi'  # x is a string...\n",
    "\n",
    "## But sometimes this can cause problems\n",
    "x = 2 + x"
   ]
  },
  {
   "cell_type": "markdown",
   "metadata": {},
   "source": [
    "As we can see, if we aren't careful, re-assignment of variables can cause issues, so we need to be careful to make sure that we don't abuse this feature too heavily. We also can see that we have gotten our first error ! The Python interpreter will report errors as they occur. In a compiled language like C, the compiler would have returned an error during compilation as it would have detected this type-collision as a compile-time-error. However, for Python, since we only know the variable type at run-time, we instead have a run-time-error for this kind of type-mismatch. \n",
    "\n",
    "However, by abstracting the typing and addressing of variables, Python avoids many of the run-time errors which often appear in compiled languages. For example, we won't run into pointer errors, memory leaks, or other run-time errors (segmentation faults) often encountered in C and C++. Not having to debug memory problems is a big win compared to having to check types. For specific Python vs. language comparisons, [check out this page](https://www.python.org/doc/essays/comparisons/). Notably,\n",
    "\n",
    "> *\"Python code is typically 3-5 times shorter than equivalent Java code, it is often 5-10 times shorter than equivalent C++ code! Anecdotal evidence suggests that one Python programmer can finish in two months what two C++ programmers can't complete in a year.\"* -- Python Software Foundation"
   ]
  },
  {
   "cell_type": "markdown",
   "metadata": {},
   "source": [
    "## Python 2 vs Python 3\n",
    "---\n",
    "For those who have been using Python for a long time, one of the largest issues in the community is the distinction between Python 2 and Python 3. Python 3 was released around 2009, but because of many legacy packages and modules, many are still using Python 2.7. For the purposes of this demonstration class, we will be using Python 3, which introduces a number of new features over Python 2.\n",
    "\n",
    "For those who are more familiar with Python 2 and want to know more about the changes in Python 3, please see [this article by Guido van Rossum](https://docs.python.org/3.0/whatsnew/3.0.html)."
   ]
  },
  {
   "cell_type": "markdown",
   "metadata": {},
   "source": [
    "## The Basics\n",
    "---\n",
    "Let's start our crash course in Python coding by going over many of common strucures and variables which we use in Python programs. How about a \"Hello World\" ?"
   ]
  },
  {
   "cell_type": "code",
   "execution_count": 8,
   "metadata": {
    "collapsed": false
   },
   "outputs": [
    {
     "name": "stdout",
     "output_type": "stream",
     "text": [
      "Hello World!\n"
     ]
    }
   ],
   "source": [
    "print('Hello World!')"
   ]
  },
  {
   "cell_type": "markdown",
   "metadata": {},
   "source": [
    "That was simple... no `int main(int argc, char** argv){...}` at all ! The `print` command is our basic output to the world. Let's look at the documentation for this command..."
   ]
  },
  {
   "cell_type": "code",
   "execution_count": 10,
   "metadata": {
    "collapsed": false
   },
   "outputs": [
    {
     "name": "stdout",
     "output_type": "stream",
     "text": [
      "Help on built-in function print in module builtins:\n",
      "\n",
      "print(...)\n",
      "    print(value, ..., sep=' ', end='\\n', file=sys.stdout, flush=False)\n",
      "    \n",
      "    Prints the values to a stream, or to sys.stdout by default.\n",
      "    Optional keyword arguments:\n",
      "    file:  a file-like object (stream); defaults to the current sys.stdout.\n",
      "    sep:   string inserted between values, default a space.\n",
      "    end:   string appended after the last value, default a newline.\n",
      "    flush: whether to forcibly flush the stream.\n",
      "\n"
     ]
    }
   ],
   "source": [
    "help(print)"
   ]
  },
  {
   "cell_type": "markdown",
   "metadata": {},
   "source": [
    "The print commands can take many different kinds of objects as inputs, and not just strings. The object just needs to have a defined display option."
   ]
  },
  {
   "cell_type": "code",
   "execution_count": 18,
   "metadata": {
    "collapsed": false
   },
   "outputs": [
    {
     "name": "stdout",
     "output_type": "stream",
     "text": [
      "2.0\n",
      "2\n",
      "c\n",
      "<built-in function print>\n"
     ]
    }
   ],
   "source": [
    "print(2.0)     # ...a float\n",
    "print(2)       # ...an integer\n",
    "print('c')     # ...a string\n",
    "print(print)   # ...a function handle, even"
   ]
  },
  {
   "cell_type": "markdown",
   "metadata": {},
   "source": [
    "Now, lets try a little bit of arithmetic. All of the normal mathematical operations behave as you would expect."
   ]
  },
  {
   "cell_type": "code",
   "execution_count": 31,
   "metadata": {
    "collapsed": false
   },
   "outputs": [
    {
     "name": "stdout",
     "output_type": "stream",
     "text": [
      "1) 2 + 3 = 5\n",
      "2) 2 - 3 = -1\n",
      "3) 2 * 3 = 6\n",
      "4) 2 / 3 = 0.6666666666666666\n",
      "5) 2 ^ 3 = 8\n",
      "5) 2 % 3 = 2\n"
     ]
    }
   ],
   "source": [
    "## Set some variables !\n",
    "a = 2\n",
    "b = 3\n",
    "print('1)', a, '+', b, '=', a+b)\n",
    "print('2)', a, '-', b, '=', a-b)\n",
    "print('3)', a, '*', b, '=', a*b)\n",
    "print('4)', a, '/', b, '=', a/b)\n",
    "print('5)', a, '^', b, '=', a**b)\n",
    "print('6)', a, '%', b, '=', a%b)"
   ]
  },
  {
   "cell_type": "markdown",
   "metadata": {},
   "source": [
    "Now lets look at some control-flow structures. First, lets take a look at the format for branching code, e.g. *if-then-else*. These statements work in Python as you would expect them to in any other language you are familiar with. However, we must pay attention to the syntax. Unlike languages such as C/C++, where white space is very fluid and left up to the programmer via the use of backeting, the Python interpreter requires strict indentation of code in lieu of bracketing."
   ]
  },
  {
   "cell_type": "code",
   "execution_count": 132,
   "metadata": {
    "collapsed": false
   },
   "outputs": [
    {
     "name": "stdout",
     "output_type": "stream",
     "text": [
      "Value is negative.\n"
     ]
    }
   ],
   "source": [
    "some_value = -1\n",
    "\n",
    "# Branch based on the sign of the value\n",
    "if some_value == 0:\n",
    "    print('Value is equal to 0.')\n",
    "elif some_value > 0:\n",
    "    print('Value is positive.')\n",
    "else:\n",
    "    print('Value is negative.')"
   ]
  },
  {
   "cell_type": "markdown",
   "metadata": {},
   "source": [
    "Note that Python does not include an explicit `switch` control structure as in C/C++. Instead, one uses a ladder of `if-elif-elif-...` statements to accomplish the same goal, as we see above. Since Python 2.5, Python also has a ternary operator..."
   ]
  },
  {
   "cell_type": "code",
   "execution_count": 137,
   "metadata": {
    "collapsed": false
   },
   "outputs": [
    {
     "name": "stdout",
     "output_type": "stream",
     "text": [
      "Value is negative.\n"
     ]
    }
   ],
   "source": [
    "some_value = -2\n",
    "\n",
    "# Ternary operator is given as\n",
    "#    a if condition else b\n",
    "print('Value >= 0') if some_value >= 0 else print('Value is negative.')"
   ]
  },
  {
   "cell_type": "markdown",
   "metadata": {},
   "source": [
    "We will now look at basic loops in Python. In practice, the most common loop you will interface with is the `for` loop. Lets take a look at an example."
   ]
  },
  {
   "cell_type": "code",
   "execution_count": 147,
   "metadata": {
    "collapsed": false
   },
   "outputs": [
    {
     "name": "stdout",
     "output_type": "stream",
     "text": [
      "Loop # 0\n",
      "Loop # 1\n",
      "Loop # 2\n"
     ]
    }
   ],
   "source": [
    "n_loops = 3\n",
    "\n",
    "# We need an object to loop over. `range(0,x)` returns an iterator over the range [0,...,x-1]. \n",
    "for loop in range(0,n_loops):\n",
    "    print('Loop #',loop)"
   ]
  },
  {
   "cell_type": "markdown",
   "metadata": {},
   "source": [
    "In Python, you can loop over any iteratable object, not just numeric values. Lets take a look at a simple example by creating a list of values."
   ]
  },
  {
   "cell_type": "code",
   "execution_count": 148,
   "metadata": {
    "collapsed": false
   },
   "outputs": [
    {
     "name": "stdout",
     "output_type": "stream",
     "text": [
      "just\n",
      "a\n",
      "list\n",
      "of\n",
      "strings\n"
     ]
    }
   ],
   "source": [
    "# Iterate over a list of string values\n",
    "list_of_strings = ['just', 'a', 'list', 'of', 'strings']\n",
    "\n",
    "for string in list_of_strings:\n",
    "    print(string)"
   ]
  },
  {
   "cell_type": "markdown",
   "metadata": {},
   "source": [
    "Interestingly, because of the nature of dynamic typing in Python, our lists aren't restricted to a single type. A list can contain any number of objects, each of a different type."
   ]
  },
  {
   "cell_type": "code",
   "execution_count": 149,
   "metadata": {
    "collapsed": false
   },
   "outputs": [
    {
     "name": "stdout",
     "output_type": "stream",
     "text": [
      "just\n",
      "42\n",
      "things\n",
      "3.14\n",
      "<built-in function print>\n",
      "('i', 'guess')\n"
     ]
    }
   ],
   "source": [
    "# Iterate over whatever\n",
    "list_of_whatever = ['just', 42, 'things', 3.14, print, ('i', 'guess')]\n",
    "\n",
    "for thing in list_of_whatever:\n",
    "    print(thing)"
   ]
  },
  {
   "cell_type": "markdown",
   "metadata": {},
   "source": [
    "---\n",
    "\n",
    "---\n",
    "## Ex 1: Calculate n!\n",
    "As an example, lets write a function to calculate the factorial of a given positive integer, $n! = n\\times(n-1)\\times(n-2)\\times\\cdots$, and $0! = 1$. Let's define this as a function so that we can use it again later."
   ]
  },
  {
   "cell_type": "code",
   "execution_count": 168,
   "metadata": {
    "collapsed": false
   },
   "outputs": [],
   "source": [
    "## Your solution below...\n",
    "def factorial(n):\n",
    "    pass # Replace with your code"
   ]
  },
  {
   "cell_type": "markdown",
   "metadata": {},
   "source": [
    "***Uncomment and run for solution...last resort !***"
   ]
  },
  {
   "cell_type": "code",
   "execution_count": 165,
   "metadata": {
    "collapsed": false
   },
   "outputs": [],
   "source": [
    "# %load example1.py"
   ]
  },
  {
   "cell_type": "markdown",
   "metadata": {},
   "source": [
    "### Validation\n"
   ]
  },
  {
   "cell_type": "code",
   "execution_count": 169,
   "metadata": {
    "collapsed": false
   },
   "outputs": [
    {
     "ename": "AssertionError",
     "evalue": "",
     "output_type": "error",
     "traceback": [
      "\u001b[0;31m---------------------------------------------------------------------------\u001b[0m",
      "\u001b[0;31mAssertionError\u001b[0m                            Traceback (most recent call last)",
      "\u001b[0;32m<ipython-input-169-846b6733b8b3>\u001b[0m in \u001b[0;36m<module>\u001b[0;34m()\u001b[0m\n\u001b[0;32m----> 1\u001b[0;31m \u001b[0;32massert\u001b[0m \u001b[0mfactorial\u001b[0m\u001b[0;34m(\u001b[0m\u001b[0;36m0\u001b[0m\u001b[0;34m)\u001b[0m \u001b[0;34m==\u001b[0m \u001b[0;36m1\u001b[0m\u001b[0;34m\u001b[0m\u001b[0m\n\u001b[0m\u001b[1;32m      2\u001b[0m \u001b[0;32massert\u001b[0m \u001b[0mfactorial\u001b[0m\u001b[0;34m(\u001b[0m\u001b[0;36m6\u001b[0m\u001b[0;34m)\u001b[0m \u001b[0;34m==\u001b[0m \u001b[0;36m720\u001b[0m\u001b[0;34m\u001b[0m\u001b[0m\n\u001b[1;32m      3\u001b[0m \u001b[0;32massert\u001b[0m \u001b[0mfactorial\u001b[0m\u001b[0;34m(\u001b[0m\u001b[0;36m5\u001b[0m\u001b[0;34m)\u001b[0m \u001b[0;34m==\u001b[0m \u001b[0;36m120\u001b[0m\u001b[0;34m\u001b[0m\u001b[0m\n\u001b[1;32m      4\u001b[0m \u001b[0;32massert\u001b[0m \u001b[0mfactorial\u001b[0m\u001b[0;34m(\u001b[0m\u001b[0;36m10\u001b[0m\u001b[0;34m)\u001b[0m \u001b[0;34m==\u001b[0m \u001b[0;36m3628800\u001b[0m\u001b[0;34m\u001b[0m\u001b[0m\n\u001b[1;32m      5\u001b[0m \u001b[0mfactorial\u001b[0m\u001b[0;34m(\u001b[0m\u001b[0;34m-\u001b[0m\u001b[0;36m1\u001b[0m\u001b[0;34m)\u001b[0m\u001b[0;34m\u001b[0m\u001b[0m\n",
      "\u001b[0;31mAssertionError\u001b[0m: "
     ]
    }
   ],
   "source": [
    "assert factorial(0) == 1\n",
    "assert factorial(6) == 720\n",
    "assert factorial(5) == 120\n",
    "assert factorial(10) == 3628800\n",
    "factorial(-1)\n",
    "factorial(2.5)\n",
    "print(\"Tests Passed !\")"
   ]
  },
  {
   "cell_type": "markdown",
   "metadata": {},
   "source": [
    "---\n",
    "\n",
    "---"
   ]
  },
  {
   "cell_type": "markdown",
   "metadata": {},
   "source": [
    "## Classes\n",
    "---\n",
    "Like C/C++ and Java, Python supports class structures. However, it is not an \"Object Oriented Langauge\" in the truest sense. It does not support strict encapsulation, i.e. privatizing object data. However, it does support the convenience of classes in every other way. Lets take a look at a basic class."
   ]
  },
  {
   "cell_type": "code",
   "execution_count": 182,
   "metadata": {
    "collapsed": false
   },
   "outputs": [],
   "source": [
    "class Agent:\n",
    "    \"\"\"\n",
    "        A simple class which defines an `agent`, some decision making\n",
    "        entity which wants to maximize its own reward.\n",
    "    \"\"\"    \n",
    "    def __init__(self, utility=0, position=(0,0)):\n",
    "        self.utility = utility\n",
    "        self.position = position\n",
    "    \n",
    "    def __repr__(self):\n",
    "        return \"Agent<p:%s, u:%s>\" %(self.position, self.utility)\n",
    "    \n",
    "    def __str__(self):\n",
    "        return \"Agent @ %s [u=%s]\" % (self.position, self.utility)\n",
    "    \n",
    "    def "
   ]
  },
  {
   "cell_type": "code",
   "execution_count": 184,
   "metadata": {
    "collapsed": false
   },
   "outputs": [
    {
     "name": "stdout",
     "output_type": "stream",
     "text": [
      "Agent @ (0, 0) [u=0]\n"
     ]
    },
    {
     "data": {
      "text/plain": [
       "'Agent<p:(0, 0), u:0>'"
      ]
     },
     "execution_count": 184,
     "metadata": {},
     "output_type": "execute_result"
    }
   ],
   "source": [
    "a = Agent"
   ]
  },
  {
   "cell_type": "code",
   "execution_count": 175,
   "metadata": {
    "collapsed": false
   },
   "outputs": [
    {
     "data": {
      "text/plain": [
       "<__main__.Agent at 0x10616fa90>"
      ]
     },
     "execution_count": 175,
     "metadata": {},
     "output_type": "execute_result"
    }
   ],
   "source": [
    "a"
   ]
  },
  {
   "cell_type": "code",
   "execution_count": null,
   "metadata": {
    "collapsed": true
   },
   "outputs": [],
   "source": []
  }
 ],
 "metadata": {
  "kernelspec": {
   "display_name": "Python 3",
   "language": "python",
   "name": "python3"
  },
  "language_info": {
   "codemirror_mode": {
    "name": "ipython",
    "version": 3
   },
   "file_extension": ".py",
   "mimetype": "text/x-python",
   "name": "python",
   "nbconvert_exporter": "python",
   "pygments_lexer": "ipython3",
   "version": "3.5.2"
  }
 },
 "nbformat": 4,
 "nbformat_minor": 0
}
