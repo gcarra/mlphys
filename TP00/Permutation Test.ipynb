{
 "cells": [
  {
   "cell_type": "markdown",
   "metadata": {},
   "source": [
    "# Computing the p-value using permutation tests"
   ]
  },
  {
   "cell_type": "code",
   "execution_count": null,
   "metadata": {
    "collapsed": true
   },
   "outputs": [],
   "source": [
    "%matplotlib inline\n",
    "import numpy as np\n",
    "import pandas as pd\n",
    "import matplotlib.pyplot as plt\n",
    "plt.rcParams[\"figure.figsize\"] = (8, 8)\n",
    "plt.rcParams[\"font.size\"] = 14"
   ]
  },
  {
   "cell_type": "markdown",
   "metadata": {},
   "source": [
    "First let us generate a simple synthetic dataset and load it on Pandas"
   ]
  },
  {
   "cell_type": "code",
   "execution_count": null,
   "metadata": {
    "collapsed": false
   },
   "outputs": [],
   "source": [
    "df = pd.DataFrame(np.random.randn(10, 2), columns=list('AB'))\n",
    "print(df)"
   ]
  },
  {
   "cell_type": "markdown",
   "metadata": {},
   "source": [
    "This our dataset for the moment. A question that commonly arises is, are the means of the two populations the same? Let us first see what the means are."
   ]
  },
  {
   "cell_type": "code",
   "execution_count": null,
   "metadata": {
    "collapsed": false
   },
   "outputs": [],
   "source": [
    "df.mean()"
   ]
  },
  {
   "cell_type": "markdown",
   "metadata": {},
   "source": [
    "A somewhat restrictive way of answering to this question is by performing a t-test. The $t$-statistic for a 2-sample test where we assume the two populations have equal variance is\n",
    "\n",
    "$$t = \\frac{\\bar{x}_A - \\bar{x}_B}{\\frac{\\sqrt{\\sigma^2_A + \\sigma^2_B}}{n}}$$\n",
    "\n",
    "where $\\bar{x}$ gives the mean and variance of each sample."
   ]
  },
  {
   "cell_type": "markdown",
   "metadata": {},
   "source": [
    "**Exercise**: compute the $t$ statistic for the sample above using DataFrame methods."
   ]
  },
  {
   "cell_type": "code",
   "execution_count": null,
   "metadata": {
    "collapsed": false
   },
   "outputs": [],
   "source": [
    "tval ="
   ]
  },
  {
   "cell_type": "code",
   "execution_count": null,
   "metadata": {
    "collapsed": false
   },
   "outputs": [],
   "source": [
    "# Run this cell after you're done to see the solution.\n",
    "%load permutation1.py"
   ]
  },
  {
   "cell_type": "markdown",
   "metadata": {},
   "source": [
    "We are now ready to compute the $p$-value for this statistic. Our null hypothesis $H_0$ is that the two means are the same; we will do a two-tailed test, which means the alternative hypothesis $H_A$ is that the two means are different. For that we need to lookup the survival function of the Student's $t$-distribution."
   ]
  },
  {
   "cell_type": "code",
   "execution_count": null,
   "metadata": {
    "collapsed": false
   },
   "outputs": [],
   "source": [
    "from scipy.stats import t\n",
    "pval = 2 * t.sf(np.abs(tval), df.shape[0] - 1)\n",
    "print(pval)"
   ]
  },
  {
   "cell_type": "markdown",
   "metadata": {},
   "source": [
    "We could also have done all that using a black-box."
   ]
  },
  {
   "cell_type": "code",
   "execution_count": null,
   "metadata": {
    "collapsed": false
   },
   "outputs": [],
   "source": [
    "from scipy.stats import ttest_ind\n",
    "res = ttest_ind(df[\"A\"], df[\"B\"])\n",
    "print(res)"
   ]
  },
  {
   "cell_type": "markdown",
   "metadata": {},
   "source": [
    "## Permutation test"
   ]
  },
  {
   "cell_type": "markdown",
   "metadata": {},
   "source": [
    "The permutation test gives us an alternative way of computing the $p$-value. The first step is to compute all the possible $20 \\choose 10$ combinations of the 20 samples we have in 2 groups.\n",
    "\n",
    "First let us put all samples in a single array."
   ]
  },
  {
   "cell_type": "code",
   "execution_count": null,
   "metadata": {
    "collapsed": false
   },
   "outputs": [],
   "source": [
    "samples = np.ravel(np.array(df), order = 'f')\n",
    "print(samples)"
   ]
  },
  {
   "cell_type": "markdown",
   "metadata": {},
   "source": [
    "Now we compute the difference between the means in the original set\n",
    "\n",
    "$$D_0 = \\hat{x}_A - \\hat{x}_B$$\n",
    "\n",
    "and then again the same quantity for every combination. Finally, we count on how many of the combinations this quantity was larger than $D_0$. In practice, in order to do a two-tailed test, one oughta look at its absolute value, that is\n",
    "\n",
    "$$p = \\frac{\\text{# of $|D|$'s $>$ $|D_0|$}}{20\\choose10}$$\n",
    "\n",
    "**Exercise**: compute the quantity above. Tip: use the `combinations` function from the `itertools` package."
   ]
  },
  {
   "cell_type": "code",
   "execution_count": null,
   "metadata": {
    "collapsed": false
   },
   "outputs": [],
   "source": [
    "from itertools import combinations"
   ]
  },
  {
   "cell_type": "code",
   "execution_count": null,
   "metadata": {
    "collapsed": false
   },
   "outputs": [],
   "source": [
    "# %load permutation2.py\n",
    "d = []\n",
    "for p in combinations(range(20), 10):\n",
    "    p_tilde = set(range(20)).difference(p)\n",
    "    A = samples[list(p)]\n",
    "    B = samples[list(p_tilde)]\n",
    "    d.append(np.mean(A) - np.mean(B))\n",
    "    \n",
    "d0 = df[\"A\"].mean() - df[\"B\"].mean()\n",
    "print(np.mean(np.abs(d) > np.abs(d0)))"
   ]
  },
  {
   "cell_type": "markdown",
   "metadata": {},
   "source": [
    "Note that the value obtained is very close to that we got using the $t$-statistic. Here, however, we did less assumptions.\n",
    "\n",
    "Finally we can plot the histogram together with the $p$-value."
   ]
  },
  {
   "cell_type": "code",
   "execution_count": null,
   "metadata": {
    "collapsed": false
   },
   "outputs": [],
   "source": [
    "plt.hist(d, 30)\n",
    "plt.axvline(d0, color = \"r\", lw = 2)\n",
    "plt.axvline(-d0, color = \"r\", lw = 2)"
   ]
  }
 ],
 "metadata": {
  "kernelspec": {
   "display_name": "Python 3",
   "language": "python",
   "name": "python3"
  },
  "language_info": {
   "codemirror_mode": {
    "name": "ipython",
    "version": 3
   },
   "file_extension": ".py",
   "mimetype": "text/x-python",
   "name": "python",
   "nbconvert_exporter": "python",
   "pygments_lexer": "ipython3",
   "version": "3.6.0"
  }
 },
 "nbformat": 4,
 "nbformat_minor": 2
}
