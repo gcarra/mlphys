{
 "cells": [
  {
   "cell_type": "code",
   "execution_count": null,
   "metadata": {
    "collapsed": true
   },
   "outputs": [],
   "source": [
    "%matplotlib inline\n",
    "import pandas as apd\n",
    "import numpy as np\n",
    "import matplotlib.pyplot as plt\n",
    "from datasets import dataset_info, dataset_load"
   ]
  },
  {
   "cell_type": "markdown",
   "metadata": {},
   "source": [
    "## Data Experiments\n",
    "---\n",
    "Now lets take a look at a particular real-life data problem. In the following example we take a look at the prediction of ozone concentration as a factor of other weather-based features. As with all data problems, it behooves us to take a look at all of the information that we have about the dataset."
   ]
  },
  {
   "cell_type": "code",
   "execution_count": null,
   "metadata": {
    "collapsed": false
   },
   "outputs": [],
   "source": [
    "dataset_info('laozone')"
   ]
  },
  {
   "cell_type": "markdown",
   "metadata": {},
   "source": [
    "Now lets take a look at what this dataset looks like. "
   ]
  },
  {
   "cell_type": "code",
   "execution_count": null,
   "metadata": {
    "collapsed": false
   },
   "outputs": [],
   "source": [
    "data = dataset_load('laozone')\n",
    "print(data)"
   ]
  },
  {
   "cell_type": "markdown",
   "metadata": {},
   "source": [
    "Alright, we're ready to get started ! Now, before we touch anything, we need to follow best practices. When faced with a new dataset, we need to set up some kind of objective comparison. To do this, we need to split our dataset into three parts: **Training**(and within that, **Validation**), and **Testing** sets. \n",
    "\n",
    "The best practice here is to take the test data and lock it away somewhere. It is always tempting to tune your algorithms to give the best test performance. However, even if the regression isn't explicitly *trained* on the test data, as practitioners, we could be continually making changes in an effort to get our numbers up.\n",
    "\n",
    "Instead, we should deep-freeze the test data, and then tune as much as we can via **cross-validation (CV)** on our training data."
   ]
  },
  {
   "cell_type": "code",
   "execution_count": null,
   "metadata": {
    "collapsed": false
   },
   "outputs": [],
   "source": [
    "# from sklearn import linear_model, svm, ensemble\n",
    "from sklearn.model_selection import train_test_split, KFold\n",
    "\n",
    "#--- Convert from DataFrame to NDArray ---#\n",
    "# We also ensure that we load in all data as floating point values\n",
    "# so that we don't miss anything to truncations.\n",
    "y = data['ozone'].as_matrix().astype(float)\n",
    "X = data[[i for i in range(1,10)]].as_matrix().astype(float)\n",
    "\n",
    "#--- Split Dataset ---#\n",
    "XTrain, XTest, yTrain, yTest = train_test_split(X,y,test_size = 0.25, random_state=1)\n",
    "\n",
    "print(\"Training Samples: \", len(yTrain))\n",
    "print(\"Testing  Samples: \", len(yTest))"
   ]
  },
  {
   "cell_type": "markdown",
   "metadata": {},
   "source": [
    "Now, before we start attempting to fit models, lets take a bit of care and apply some pre-processing to our dataset. The de-facto pre-processing is *centering and normalization*. Specifically, many flavors of estimators (OLS, RR, etc.) can be thrown of by large differences in of scale and variations between the features. We can easily account for this in our estimators by simply normalizing the feature columns and removing averages. Scikit-Learn has some features for this."
   ]
  },
  {
   "cell_type": "code",
   "execution_count": null,
   "metadata": {
    "collapsed": true
   },
   "outputs": [],
   "source": [
    "from sklearn import preprocessing\n",
    "\n",
    "#--- Adding Features ... ---#\n",
    "# Can you think of any other possible features to include, here?\n",
    "# What other pre-processing steps might you use?\n",
    "\n",
    "\n",
    "#--- Center and Scale ---#\n",
    "XTest = preprocessing.scale(XTest)\n",
    "XTrain = preprocessing.scale(XTrain)\n",
    "\n",
    "#--- Center observations ---#\n",
    "mean_yTrain = np.mean(yTrain)\n",
    "mean_yTest = np.mean(yTest)\n",
    "\n",
    "yTrain = yTrain - mean_yTrain\n",
    "yTest = yTest - mean_yTest"
   ]
  },
  {
   "cell_type": "markdown",
   "metadata": {},
   "source": [
    "Now it is time for us to choose our estimator. What should we choose? "
   ]
  },
  {
   "cell_type": "markdown",
   "metadata": {},
   "source": [
    "## Attempt 1: OLS\n",
    "---\n"
   ]
  },
  {
   "cell_type": "code",
   "execution_count": null,
   "metadata": {
    "collapsed": false
   },
   "outputs": [],
   "source": [
    "#--- Calculate the OLS Estimate ---#\n",
    "regOLS = np.linalg.solve(np.dot(XTrain.T,XTrain), np.dot(XTrain.T,yTrain))\n",
    "\n",
    "yp = np.dot(XTrain, regOLS)\n",
    "ypTest = np.dot(XTest, regOLS)\n",
    "\n",
    "#--- Visualize ---#\n",
    "plt.figure(figsize=(14,7))\n",
    "plt.subplot(121)\n",
    "plt.plot(yTrain + mean_yTrain,yp + mean_yTrain,'.', label='Training')\n",
    "plt.plot(yTest + mean_yTest, ypTest + mean_yTest,'.r', label='Testing', marker='x')\n",
    "plt.plot([0, 40], [0, 40], '-k', linewidth=0.7, label=\"Perfect\")\n",
    "plt.axis([0, 40, 0, 40])\n",
    "plt.xlabel('Ozone (True)', fontsize=16)\n",
    "plt.ylabel('Ozone (Predicted)', fontsize=16)\n",
    "plt.legend(loc=2, fontsize=16)\n",
    "plt.title('Prediction Performance', fontsize=18)\n",
    "# Plot the learned model\n",
    "plt.subplot(122)\n",
    "plt.stem(regOLS)\n",
    "plt.title('Learned Model $\\\\hat{\\\\beta}$', fontsize=18)\n",
    "plt.xticks(range(9),data.keys()[1:10], rotation='vertical')\n",
    "\n",
    "#--- Print RSS ---#\n",
    "rss_train = np.mean(np.power(yTrain - yp,2))\n",
    "rss_test = np.mean(np.power(yTest - ypTest,2))\n",
    "print(\"Normalized RSS (Train): %0.2f\" % rss_train)\n",
    "print(\"Normalized RSS  (Test): %0.2f\" % rss_test)"
   ]
  },
  {
   "cell_type": "markdown",
   "metadata": {},
   "source": [
    "## Attempt 2: Ridge Regression\n",
    "---"
   ]
  },
  {
   "cell_type": "code",
   "execution_count": null,
   "metadata": {
    "collapsed": false
   },
   "outputs": [],
   "source": [
    "from sklearn import linear_model\n",
    "\n",
    "#--- Define Regression Estimator ---#\n",
    "regRR = linear_model.Ridge(alpha=0.01)"
   ]
  },
  {
   "cell_type": "markdown",
   "metadata": {},
   "source": [
    "Now, we need to perform some kind of CV to find the best set of parameters for our model. We will do this by constructing a **Pipeline**. A pipeline is a useful way of handling pre-processing on separate data partitions when performing CV. Let's take a look at that."
   ]
  },
  {
   "cell_type": "code",
   "execution_count": null,
   "metadata": {
    "collapsed": false
   },
   "outputs": [],
   "source": [
    "from sklearn.model_selection import cross_val_score, ShuffleSplit\n",
    "from sklearn.model_selection import GridSearchCV\n",
    "from sklearn.pipeline import make_pipeline \n",
    "\n",
    "#--- Make a Pre-processing + Fitting Pipeline ---#\n",
    "pipe_regRR = make_pipeline(preprocessing.StandardScaler(), regRR)\n",
    "\n",
    "#--- Define a Scoring Metric ---#\n",
    "# To compare fits, we look at the prediction error via the RSS.\n",
    "def neg_rss(reg, X, y):\n",
    "    yp = reg.predict(X)\n",
    "    return -np.mean(np.power(y - yp,2))\n",
    "\n",
    "#--- Define CV Splitting ---#\n",
    "# We can create an iterator which performs a set of randomized \n",
    "# splits on the dataset into \"train\" and \"validation\". We have\n",
    "# a natural tradeoff between the test set size and the number of \n",
    "# splits we should perform\n",
    "cv = ShuffleSplit(n_splits=20, test_size=0.05, random_state=0)\n",
    "\n",
    "#--- Define the Parameters to Search ---#\n",
    "# We need to specify the estimator name since we are performing a CV on\n",
    "# a Pipeline. (e.g. the formatting of `<estimator>__<param>`).\n",
    "param_grid = [\n",
    "    {'ridge__alpha': np.logspace(-4,3,50)}\n",
    "]\n",
    "\n",
    "#--- Run the CV ---#\n",
    "cv_regRR = GridSearchCV(pipe_regRR, param_grid, scoring=neg_rss, cv=cv)\n",
    "cv_regRR.fit(XTrain,yTrain)"
   ]
  },
  {
   "cell_type": "markdown",
   "metadata": {},
   "source": [
    "Great ! Now lets take a look at the performance of our estimator. Here, for an example of Ridge or Lasso regression, we chart over the $\\alpha$ parameter that we perform CV against."
   ]
  },
  {
   "cell_type": "code",
   "execution_count": null,
   "metadata": {
    "collapsed": false
   },
   "outputs": [],
   "source": [
    "#--- Record CV Optimizing Hyper-Params ---#\n",
    "cvOptAlpha = cv_regRR.cv_results_['param_ridge__alpha'][cv_regRR.best_index_]\n",
    "cvOptParams = cv_regRR.cv_results_['params'][cv_regRR.best_index_]\n",
    "\n",
    "#--- Visualize ---#\n",
    "testedAlpha = cv_regRR.cv_results_['param_ridge__alpha']\n",
    "trainScores = -cv_regRR.cv_results_['mean_train_score']   # Reverse Sign\n",
    "testScores = -cv_regRR.cv_results_['mean_test_score']     # Reverse Sign\n",
    "\n",
    "plt.figure(figsize=(15,5))\n",
    "plt.plot(testedAlpha, trainScores, '-', label='Training (Avg.)')\n",
    "plt.plot(testedAlpha, testScores, '-', label='Validation (Avg.)')\n",
    "plt.xlabel('Regularization Parameter $\\\\alpha$', fontsize=16)\n",
    "plt.ylabel('$\\\\frac{1}{N}RSS(y - X\\\\beta)$', fontsize=16)\n",
    "plt.axvline(cvOptAlpha, label='$\\\\alpha^*$', color='k', linestyle=':')\n",
    "plt.xscale('log')\n",
    "plt.xlim([1e-4, 1e3])\n",
    "plt.tight_layout()\n",
    "plt.legend(loc=2, fontsize=16)"
   ]
  },
  {
   "cell_type": "markdown",
   "metadata": {},
   "source": [
    "Now, lets take a look at how well we are able to make our predictions on the training set using this CV optimal value of $\\alpha$."
   ]
  },
  {
   "cell_type": "code",
   "execution_count": null,
   "metadata": {
    "collapsed": false
   },
   "outputs": [],
   "source": [
    "#--- Get Training Predicitions ---#\n",
    "pipe_regRR.set_params(ridge__alpha=cvOptAlpha)\n",
    "pipe_regRR.fit(XTrain,yTrain)\n",
    "yp = pipe_regRR.predict(XTrain)\n",
    "\n",
    "#--- Visualize ---#\n",
    "plt.figure(figsize=(7,7))\n",
    "plt.plot(yTrain + mean_yTrain,yp + mean_yTrain,'.', label='Training (CV-Opt)')\n",
    "plt.plot([0, 40], [0, 40], '-k', linewidth=0.7, label=\"Perfect\")\n",
    "plt.axis([0, 40, 0, 40])\n",
    "plt.xlabel('Ozone (True)', fontsize=16)\n",
    "plt.ylabel('Ozone (Predicted)', fontsize=16)\n",
    "plt.legend(loc=2, fontsize=16);"
   ]
  },
  {
   "cell_type": "markdown",
   "metadata": {},
   "source": [
    "And now, finally, we are ready to take our test data out of deep-freeze. How did we do?"
   ]
  },
  {
   "cell_type": "code",
   "execution_count": null,
   "metadata": {
    "collapsed": false
   },
   "outputs": [],
   "source": [
    "ypTest = pipe_regRR.predict(XTest)\n",
    "\n",
    "#--- Visualize ---#\n",
    "plt.figure(figsize=(14,7))\n",
    "plt.subplot(121)\n",
    "plt.plot(yTrain + mean_yTrain,yp + mean_yTrain,'.', label='Training (CV-Opt)')\n",
    "plt.plot(yTest + mean_yTest, ypTest + mean_yTest,'.r', label='Testing (CV-Opt)', marker='x')\n",
    "plt.plot([0, 40], [0, 40], '-k', linewidth=0.7, label=\"Perfect\")\n",
    "plt.axis([0, 40, 0, 40])\n",
    "plt.xlabel('Ozone (True)', fontsize=16)\n",
    "plt.ylabel('Ozone (Predicted)', fontsize=16)\n",
    "plt.legend(loc=2, fontsize=16)\n",
    "plt.title('Prediction Performance', fontsize=18)\n",
    "# Plot the learned model\n",
    "plt.subplot(122)\n",
    "plt.stem(regRR.coef_)\n",
    "plt.title('Learned Model $\\\\hat{\\\\beta}$', fontsize=18)\n",
    "plt.xticks(range(9),data.keys()[1:10], rotation='vertical')\n",
    "\n",
    "#--- Print RSS ---#\n",
    "print(\"Normalized RSS (Train): %0.2f\" % -neg_rss(pipe_regRR, XTrain, yTrain))\n",
    "print(\"Normalized RSS  (Test): %0.2f\" % -neg_rss(pipe_regRR, XTest, yTest))"
   ]
  },
  {
   "cell_type": "markdown",
   "metadata": {},
   "source": [
    "## Attempt 3: Lasso\n",
    "---\n"
   ]
  },
  {
   "cell_type": "code",
   "execution_count": null,
   "metadata": {
    "collapsed": false
   },
   "outputs": [],
   "source": [
    "#--- Construct Estimator ---#\n",
    "regLasso = linear_model.Lasso(alpha=1.0)\n",
    "\n",
    "#--- Make a Pre-processing + Fitting Pipeline ---#\n",
    "pipe_regLasso = make_pipeline(preprocessing.StandardScaler(), regLasso)\n",
    "\n",
    "#--- Define a Scoring Metric ---#\n",
    "# To compare fits, we look at the prediction error via the RSS.\n",
    "def neg_rss(reg, X, y):\n",
    "    yp = reg.predict(X)\n",
    "    return -np.mean(np.power(y - yp,2))\n",
    "\n",
    "#--- Define the Parameters to Search ---#\n",
    "# We need to specify the estimator name since we are performing a CV on\n",
    "# a Pipeline. (e.g. the formatting of `<estimator>__<param>`).\n",
    "param_grid = [\n",
    "    {'lasso__alpha': np.logspace(-4,3,50)}\n",
    "]\n",
    "\n",
    "#--- Run the CV ---#\n",
    "cv_regLasso = GridSearchCV(pipe_regLasso, param_grid, scoring=neg_rss, cv=cv)\n",
    "cv_regLasso.fit(XTrain,yTrain)\n",
    "\n",
    "#--- Record CV Optimizing Hyper-Params ---#\n",
    "cvOptAlphaLasso = cv_regLasso.cv_results_['param_lasso__alpha'][cv_regLasso.best_index_]\n",
    "cvOptParamsLasso = cv_regLasso.cv_results_['params'][cv_regLasso.best_index_]\n",
    "\n",
    "#--- Visualize ---#\n",
    "testedAlpha = cv_regLasso.cv_results_['param_lasso__alpha']\n",
    "trainScores = -cv_regLasso.cv_results_['mean_train_score']   # Reverse Sign\n",
    "testScores = -cv_regLasso.cv_results_['mean_test_score']     # Reverse Sign\n",
    "\n",
    "plt.figure(figsize=(15,5))\n",
    "plt.plot(testedAlpha, trainScores, '-', label='Training (Avg.)')\n",
    "plt.plot(testedAlpha, testScores, '-', label='Validation (Avg.)')\n",
    "plt.xlabel('Regularization Parameter $\\\\alpha$', fontsize=16)\n",
    "plt.ylabel('$\\\\frac{1}{N}RSS(y - X\\\\beta)$', fontsize=16)\n",
    "plt.axvline(cvOptAlphaLasso, label='$\\\\alpha^*$', color='k', linestyle=':')\n",
    "plt.xscale('log')\n",
    "plt.xlim([1e-4, 1e3])\n",
    "plt.tight_layout()\n",
    "plt.legend(loc=2, fontsize=16)"
   ]
  },
  {
   "cell_type": "code",
   "execution_count": null,
   "metadata": {
    "collapsed": false
   },
   "outputs": [],
   "source": [
    "#--- Get Training Predicitions ---#\n",
    "pipe_regLasso.set_params(lasso__alpha=cvOptAlphaLasso)\n",
    "pipe_regLasso.fit(XTrain,yTrain)\n",
    "yp = pipe_regLasso.predict(XTrain)\n",
    "ypTest = pipe_regLasso.predict(XTest)\n",
    "\n",
    "#--- Visualize ---#\n",
    "# Plot prediction performance\n",
    "plt.figure(figsize=(14,7))\n",
    "plt.subplot(121)\n",
    "plt.plot(yTrain + mean_yTrain,yp + mean_yTrain,'.', label='Training (CV-Opt)')\n",
    "plt.plot(yTest + mean_yTest, ypTest + mean_yTest,'.r', label='Testing (CV-Opt)', marker='x')\n",
    "plt.plot([0, 40], [0, 40], '-k', linewidth=0.7, label=\"Perfect\")\n",
    "plt.axis([0, 40, 0, 40])\n",
    "plt.xlabel('Ozone (True)', fontsize=16)\n",
    "plt.ylabel('Ozone (Predicted)', fontsize=16)\n",
    "plt.legend(loc=2, fontsize=16)\n",
    "plt.title('Prediction Performance', fontsize=18)\n",
    "# Plot the learned model\n",
    "plt.subplot(122)\n",
    "plt.stem(regLasso.coef_)\n",
    "plt.title('Learned Model $\\\\hat{\\\\beta}$', fontsize=18)\n",
    "plt.xticks(range(9),data.keys()[1:10], rotation='vertical')\n",
    "\n",
    "plt.tight_layout()\n",
    "#--- Print RSS ---#\n",
    "print(\"Normalized RSS (Train): %0.2f\" % -neg_rss(pipe_regLasso, XTrain, yTrain))\n",
    "print(\"Normalized RSS  (Test): %0.2f\" % -neg_rss(pipe_regLasso, XTest, yTest))"
   ]
  },
  {
   "cell_type": "markdown",
   "metadata": {},
   "source": [
    "## Boosting\n",
    "---\n",
    "With boosing methods, over-training becomes a very real possibility. In this case we need to make sure to use our CV in order to stop fine-tuning our boosting approach when we start to have a loss on the validation data.\n",
    "\n",
    "We also have many possible different metrics to use in this case, not just the RSS. So, it is important to use our CV parameter grid to check many possible values."
   ]
  },
  {
   "cell_type": "code",
   "execution_count": null,
   "metadata": {
    "collapsed": false
   },
   "outputs": [],
   "source": [
    "from sklearn import ensemble\n",
    "\n",
    "#--- Create Estimator Object ---#\n",
    "regGB = ensemble.GradientBoostingRegressor()\n",
    "\n",
    "#--- Make a Pre-processing + Fitting Pipeline ---#\n",
    "pipe_regGB = make_pipeline(preprocessing.StandardScaler(), regGB)\n",
    "\n",
    "#--- Define the Parameters to Search ---#\n",
    "# We need to specify the estimator name since we are performing a CV on\n",
    "# a Pipeline. (e.g. the formatting of `<estimator>__<param>`).\n",
    "param_grid = [\n",
    "    {'gradientboostingregressor__loss': ['ls','lad'], \n",
    "     'gradientboostingregressor__learning_rate': np.logspace(-3,0,10),\n",
    "     'gradientboostingregressor__n_estimators': range(50,200,50)} \n",
    "]\n",
    "\n",
    "#--- Run the CV ---#\n",
    "cv_regGB = GridSearchCV(pipe_regGB, param_grid, scoring=neg_rss, cv=cv)\n",
    "cv_regGB.fit(XTrain,yTrain)"
   ]
  },
  {
   "cell_type": "code",
   "execution_count": null,
   "metadata": {
    "collapsed": false
   },
   "outputs": [],
   "source": [
    "cv_regGB.cv_results_['params'][cv_regGB.best_index_]\n",
    "cv_regGB.best_estimator_"
   ]
  },
  {
   "cell_type": "code",
   "execution_count": null,
   "metadata": {
    "collapsed": false
   },
   "outputs": [],
   "source": [
    "#--- Get Training Predicitions ---#\n",
    "# pipe_regGB.set_params(cv_regGB.best_estimator_['params'])\n",
    "cvopt_regGB = cv_regGB.best_estimator_\n",
    "cvopt_regGB.fit(XTrain,yTrain)\n",
    "yp = cvopt_regGB.predict(XTrain)\n",
    "ypTest = cvopt_regGB.predict(XTest)\n",
    "\n",
    "#--- Visualize ---#\n",
    "# Plot prediction performance\n",
    "plt.figure(figsize=(14,7))\n",
    "plt.subplot(121)\n",
    "plt.plot(yTrain + mean_yTrain,yp + mean_yTrain,'.', label='Training (CV-Opt)')\n",
    "plt.plot(yTest + mean_yTest, ypTest + mean_yTest,'.r', label='Testing (CV-Opt)', marker='x')\n",
    "plt.plot([0, 40], [0, 40], '-k', linewidth=0.7, label=\"Perfect\")\n",
    "plt.axis([0, 40, 0, 40])\n",
    "plt.xlabel('Ozone (True)', fontsize=16)\n",
    "plt.ylabel('Ozone (Predicted)', fontsize=16)\n",
    "plt.legend(loc=2, fontsize=16)\n",
    "plt.title('Prediction Performance', fontsize=18)\n",
    "# Plot the learned model\n",
    "plt.subplot(122)\n",
    "plt.stem(cvopt_regGB.named_steps['gradientboostingregressor'].feature_importances_)\n",
    "plt.title('Learned Model $\\\\hat{\\\\beta}$', fontsize=18)\n",
    "plt.ylabel('Feature Importances', fontsize=16)\n",
    "plt.xticks(range(9),data.keys()[1:10], rotation='vertical')\n",
    "\n",
    "plt.tight_layout()\n",
    "#--- Print RSS ---#\n",
    "print(\"Normalized RSS (Train): %0.2f\" % -neg_rss(cvopt_regGB, XTrain, yTrain))\n",
    "print(\"Normalized RSS  (Test): %0.2f\" % -neg_rss(cvopt_regGB, XTest, yTest))"
   ]
  },
  {
   "cell_type": "code",
   "execution_count": null,
   "metadata": {
    "collapsed": true
   },
   "outputs": [],
   "source": []
  }
 ],
 "metadata": {
  "kernelspec": {
   "display_name": "Python 3",
   "language": "python",
   "name": "python3"
  },
  "language_info": {
   "codemirror_mode": {
    "name": "ipython",
    "version": 3
   },
   "file_extension": ".py",
   "mimetype": "text/x-python",
   "name": "python",
   "nbconvert_exporter": "python",
   "pygments_lexer": "ipython3",
   "version": "3.6.0"
  }
 },
 "nbformat": 4,
 "nbformat_minor": 2
}
